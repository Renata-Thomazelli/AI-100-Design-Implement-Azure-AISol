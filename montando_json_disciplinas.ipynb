{
  "nbformat": 4,
  "nbformat_minor": 0,
  "metadata": {
    "colab": {
      "name": "montando_json_disciplinas.ipynb",
      "provenance": [],
      "collapsed_sections": [],
      "authorship_tag": "ABX9TyOjCpGL5lI9pwUnFGnJxkZY",
      "include_colab_link": true
    },
    "kernelspec": {
      "name": "python3",
      "display_name": "Python 3"
    },
    "language_info": {
      "name": "python"
    }
  },
  "cells": [
    {
      "cell_type": "markdown",
      "metadata": {
        "id": "view-in-github",
        "colab_type": "text"
      },
      "source": [
        "<a href=\"https://colab.research.google.com/github/Renata-Thomazelli/AI-100-Design-Implement-Azure-AISol/blob/master/montando_json_disciplinas.ipynb\" target=\"_parent\"><img src=\"https://colab.research.google.com/assets/colab-badge.svg\" alt=\"Open In Colab\"/></a>"
      ]
    },
    {
      "cell_type": "code",
      "metadata": {
        "colab": {
          "base_uri": "https://localhost:8080/"
        },
        "id": "U9NeR8kfVpRd",
        "outputId": "584eba97-26f6-488e-9051-c6665b2c12e6"
      },
      "source": [
        "from google.colab import drive\n",
        "\n",
        "drive.mount('/content/drive')"
      ],
      "execution_count": null,
      "outputs": [
        {
          "output_type": "stream",
          "text": [
            "Mounted at /content/drive\n"
          ],
          "name": "stdout"
        }
      ]
    },
    {
      "cell_type": "code",
      "metadata": {
        "id": "iKirKVJ9WpAG"
      },
      "source": [
        "import sys\n",
        "sys.path.insert(0,'/content/drive/MyDrive/ColabNotebooks/Projeto_Fumec/bases_tratadas')"
      ],
      "execution_count": null,
      "outputs": []
    },
    {
      "cell_type": "code",
      "metadata": {
        "id": "l5hVNeLgXods"
      },
      "source": [
        "import pandas as pd\n",
        "import numpy as np"
      ],
      "execution_count": null,
      "outputs": []
    },
    {
      "cell_type": "code",
      "metadata": {
        "id": "Pqqw9yu0ZwVE"
      },
      "source": [
        "file_path =\"/content/drive/MyDrive/ColabNotebooks/Projeto_Fumec/bases_tratadas/\"\n",
        "file_cursos_abertos = \"tabela_curso_versus_disciplina.csv\" \n",
        "\n"
      ],
      "execution_count": null,
      "outputs": []
    },
    {
      "cell_type": "code",
      "metadata": {
        "id": "ml7kzcbHaSS0"
      },
      "source": [
        "with open(f\"{file_path}{file_cursos_abertos}\",'r',encoding=\"utf8\") as f:\n",
        "    df_disciplinas_dos_cursos = pd.read_csv(f,sep=';')"
      ],
      "execution_count": null,
      "outputs": []
    },
    {
      "cell_type": "code",
      "metadata": {
        "colab": {
          "base_uri": "https://localhost:8080/",
          "height": 543
        },
        "id": "7TBkUXB2aTQs",
        "outputId": "c66fb85d-0185-4e80-d2c8-d71017720fc2"
      },
      "source": [
        "\n",
        "df_disciplinas_dos_cursos"
      ],
      "execution_count": null,
      "outputs": [
        {
          "output_type": "execute_result",
          "data": {
            "text/html": [
              "<div>\n",
              "<style scoped>\n",
              "    .dataframe tbody tr th:only-of-type {\n",
              "        vertical-align: middle;\n",
              "    }\n",
              "\n",
              "    .dataframe tbody tr th {\n",
              "        vertical-align: top;\n",
              "    }\n",
              "\n",
              "    .dataframe thead th {\n",
              "        text-align: right;\n",
              "    }\n",
              "</style>\n",
              "<table border=\"1\" class=\"dataframe\">\n",
              "  <thead>\n",
              "    <tr style=\"text-align: right;\">\n",
              "      <th></th>\n",
              "      <th>curso_nome</th>\n",
              "      <th>disciplina_nome</th>\n",
              "      <th>disciplina_eixo_nome</th>\n",
              "      <th>carga_hora_semana</th>\n",
              "      <th>carga_horária_total_disciplina</th>\n",
              "    </tr>\n",
              "  </thead>\n",
              "  <tbody>\n",
              "    <tr>\n",
              "      <th>0</th>\n",
              "      <td>agente de segurança do trabalho e higiene ocup...</td>\n",
              "      <td>prevenção e controle de riscos</td>\n",
              "      <td>segurança</td>\n",
              "      <td>2</td>\n",
              "      <td>40</td>\n",
              "    </tr>\n",
              "    <tr>\n",
              "      <th>1</th>\n",
              "      <td>agente de segurança do trabalho e higiene ocup...</td>\n",
              "      <td>direito e legislação trabalhista</td>\n",
              "      <td>direito</td>\n",
              "      <td>2</td>\n",
              "      <td>40</td>\n",
              "    </tr>\n",
              "    <tr>\n",
              "      <th>2</th>\n",
              "      <td>agente de segurança do trabalho e higiene ocup...</td>\n",
              "      <td>gerenciamento de epi e epc</td>\n",
              "      <td>máquinas e equipamentos</td>\n",
              "      <td>2</td>\n",
              "      <td>40</td>\n",
              "    </tr>\n",
              "    <tr>\n",
              "      <th>3</th>\n",
              "      <td>agente de segurança do trabalho e higiene ocup...</td>\n",
              "      <td>normas regulamentadoras</td>\n",
              "      <td>segurança</td>\n",
              "      <td>2</td>\n",
              "      <td>40</td>\n",
              "    </tr>\n",
              "    <tr>\n",
              "      <th>4</th>\n",
              "      <td>agente de segurança do trabalho e higiene ocup...</td>\n",
              "      <td>higiene ocupacional</td>\n",
              "      <td>segurança</td>\n",
              "      <td>2</td>\n",
              "      <td>40</td>\n",
              "    </tr>\n",
              "    <tr>\n",
              "      <th>...</th>\n",
              "      <td>...</td>\n",
              "      <td>...</td>\n",
              "      <td>...</td>\n",
              "      <td>...</td>\n",
              "      <td>...</td>\n",
              "    </tr>\n",
              "    <tr>\n",
              "      <th>90</th>\n",
              "      <td>padeiro/confeiteiro</td>\n",
              "      <td>resíduos sólidos</td>\n",
              "      <td>meio ambiente</td>\n",
              "      <td>2</td>\n",
              "      <td>40</td>\n",
              "    </tr>\n",
              "    <tr>\n",
              "      <th>91</th>\n",
              "      <td>porteiro básico</td>\n",
              "      <td>administração</td>\n",
              "      <td>administração</td>\n",
              "      <td>8</td>\n",
              "      <td>160</td>\n",
              "    </tr>\n",
              "    <tr>\n",
              "      <th>92</th>\n",
              "      <td>português e matemática para concursos públicos...</td>\n",
              "      <td>português</td>\n",
              "      <td>português</td>\n",
              "      <td>8</td>\n",
              "      <td>160</td>\n",
              "    </tr>\n",
              "    <tr>\n",
              "      <th>93</th>\n",
              "      <td>português e matemática para concursos públicos...</td>\n",
              "      <td>matemática</td>\n",
              "      <td>matemática</td>\n",
              "      <td>8</td>\n",
              "      <td>160</td>\n",
              "    </tr>\n",
              "    <tr>\n",
              "      <th>94</th>\n",
              "      <td>práticas de escritório</td>\n",
              "      <td>administração</td>\n",
              "      <td>administração</td>\n",
              "      <td>8</td>\n",
              "      <td>160</td>\n",
              "    </tr>\n",
              "  </tbody>\n",
              "</table>\n",
              "<p>95 rows × 5 columns</p>\n",
              "</div>"
            ],
            "text/plain": [
              "                                           curso_nome  ... carga_horária_total_disciplina\n",
              "0   agente de segurança do trabalho e higiene ocup...  ...                             40\n",
              "1   agente de segurança do trabalho e higiene ocup...  ...                             40\n",
              "2   agente de segurança do trabalho e higiene ocup...  ...                             40\n",
              "3   agente de segurança do trabalho e higiene ocup...  ...                             40\n",
              "4   agente de segurança do trabalho e higiene ocup...  ...                             40\n",
              "..                                                ...  ...                            ...\n",
              "90                                padeiro/confeiteiro  ...                             40\n",
              "91                                    porteiro básico  ...                            160\n",
              "92  português e matemática para concursos públicos...  ...                            160\n",
              "93  português e matemática para concursos públicos...  ...                            160\n",
              "94                             práticas de escritório  ...                            160\n",
              "\n",
              "[95 rows x 5 columns]"
            ]
          },
          "metadata": {
            "tags": []
          },
          "execution_count": 6
        }
      ]
    },
    {
      "cell_type": "code",
      "metadata": {
        "colab": {
          "base_uri": "https://localhost:8080/"
        },
        "id": "jAJnMTI5cX3V",
        "outputId": "bc5dd7cf-48e6-4d81-cb00-d82268e882c1"
      },
      "source": [
        "df_disciplinas_dos_cursos.dtypes\n"
      ],
      "execution_count": null,
      "outputs": [
        {
          "output_type": "execute_result",
          "data": {
            "text/plain": [
              "curso_nome                        object\n",
              "disciplina_nome                   object\n",
              "disciplina_eixo_nome              object\n",
              "carga_hora_semana                  int64\n",
              "carga_horária_total_disciplina     int64\n",
              "dtype: object"
            ]
          },
          "metadata": {
            "tags": []
          },
          "execution_count": 7
        }
      ]
    },
    {
      "cell_type": "code",
      "metadata": {
        "colab": {
          "base_uri": "https://localhost:8080/"
        },
        "id": "G6whnmNygDd-",
        "outputId": "e4e3dc50-61dd-462d-9314-2bcc31d2c125"
      },
      "source": [
        "df_disciplinas_dos_cursos.info(memory_usage=\"deep\")"
      ],
      "execution_count": null,
      "outputs": [
        {
          "output_type": "stream",
          "text": [
            "<class 'pandas.core.frame.DataFrame'>\n",
            "RangeIndex: 95 entries, 0 to 94\n",
            "Data columns (total 5 columns):\n",
            " #   Column                          Non-Null Count  Dtype \n",
            "---  ------                          --------------  ----- \n",
            " 0   curso_nome                      95 non-null     object\n",
            " 1   disciplina_nome                 95 non-null     object\n",
            " 2   disciplina_eixo_nome            95 non-null     object\n",
            " 3   carga_hora_semana               95 non-null     int64 \n",
            " 4   carga_horária_total_disciplina  95 non-null     int64 \n",
            "dtypes: int64(2), object(3)\n",
            "memory usage: 26.7 KB\n"
          ],
          "name": "stdout"
        }
      ]
    },
    {
      "cell_type": "code",
      "metadata": {
        "id": "NvbldAotgHET"
      },
      "source": [
        "df_disciplinas_dos_cursos['carga_hora_semana']=df_disciplinas_dos_cursos['carga_hora_semana'].astype(np.int16)\n",
        "df_disciplinas_dos_cursos['carga_horária_total_disciplina']=df_disciplinas_dos_cursos['carga_horária_total_disciplina'].astype(np.int16)"
      ],
      "execution_count": null,
      "outputs": []
    },
    {
      "cell_type": "code",
      "metadata": {
        "colab": {
          "base_uri": "https://localhost:8080/"
        },
        "id": "HxmmWRaTglii",
        "outputId": "39aa60c8-c532-4a56-b6b0-9afcb6c4beaa"
      },
      "source": [
        "df_disciplinas_dos_cursos.info(memory_usage=\"deep\")"
      ],
      "execution_count": null,
      "outputs": [
        {
          "output_type": "stream",
          "text": [
            "<class 'pandas.core.frame.DataFrame'>\n",
            "RangeIndex: 95 entries, 0 to 94\n",
            "Data columns (total 5 columns):\n",
            " #   Column                          Non-Null Count  Dtype \n",
            "---  ------                          --------------  ----- \n",
            " 0   curso_nome                      95 non-null     object\n",
            " 1   disciplina_nome                 95 non-null     object\n",
            " 2   disciplina_eixo_nome            95 non-null     object\n",
            " 3   carga_hora_semana               95 non-null     int16 \n",
            " 4   carga_horária_total_disciplina  95 non-null     int16 \n",
            "dtypes: int16(2), object(3)\n",
            "memory usage: 25.5 KB\n"
          ],
          "name": "stdout"
        }
      ]
    },
    {
      "cell_type": "code",
      "metadata": {
        "id": "1PODJos9ahCR"
      },
      "source": [
        "disciplinas_necessarias = df_disciplinas_dos_cursos[\"disciplina_eixo_nome\"].value_counts()"
      ],
      "execution_count": null,
      "outputs": []
    },
    {
      "cell_type": "code",
      "metadata": {
        "colab": {
          "base_uri": "https://localhost:8080/"
        },
        "id": "lBOmHowxaoGT",
        "outputId": "a99b7fef-94b0-40b3-deec-e813db816982"
      },
      "source": [
        "disciplinas_necessarias"
      ],
      "execution_count": null,
      "outputs": [
        {
          "output_type": "execute_result",
          "data": {
            "text/plain": [
              "administração              23\n",
              "informática                14\n",
              "matemática                  9\n",
              "direito                     9\n",
              "cidadania                   8\n",
              "meio ambiente               6\n",
              "logística                   6\n",
              "segurança                   6\n",
              "português                   4\n",
              "enfermagem                  3\n",
              "inglês                      2\n",
              "hospitalidade               2\n",
              "alimentos                   1\n",
              "máquinas e equipamentos     1\n",
              "desenho                     1\n",
              "Name: disciplina_eixo_nome, dtype: int64"
            ]
          },
          "metadata": {
            "tags": []
          },
          "execution_count": 12
        }
      ]
    },
    {
      "cell_type": "code",
      "metadata": {
        "id": "-G_o4Ax9aqDX"
      },
      "source": [
        "file_path =\"/content/drive/MyDrive/ColabNotebooks/Projeto_Fumec/bases_tratadas/\"\n",
        "file_cursos_abertos = \"tabela_professores.csv\"\n",
        "\n",
        "with open(f\"{file_path}{file_cursos_abertos}\",'r',encoding=\"UTF8\") as f:\n",
        "    df_professores = pd.read_csv(f,sep=';',index_col =\"subeixo_disciplina\")"
      ],
      "execution_count": null,
      "outputs": []
    },
    {
      "cell_type": "code",
      "metadata": {
        "colab": {
          "base_uri": "https://localhost:8080/",
          "height": 575
        },
        "id": "YKXfhZXVipfU",
        "outputId": "bf311f53-cfca-46ca-c2a3-a25ccfbc3af6"
      },
      "source": [
        "df_professores"
      ],
      "execution_count": null,
      "outputs": [
        {
          "output_type": "execute_result",
          "data": {
            "text/html": [
              "<div>\n",
              "<style scoped>\n",
              "    .dataframe tbody tr th:only-of-type {\n",
              "        vertical-align: middle;\n",
              "    }\n",
              "\n",
              "    .dataframe tbody tr th {\n",
              "        vertical-align: top;\n",
              "    }\n",
              "\n",
              "    .dataframe thead th {\n",
              "        text-align: right;\n",
              "    }\n",
              "</style>\n",
              "<table border=\"1\" class=\"dataframe\">\n",
              "  <thead>\n",
              "    <tr style=\"text-align: right;\">\n",
              "      <th></th>\n",
              "      <th>subeixo_or_area</th>\n",
              "      <th>subeixo_number</th>\n",
              "      <th>eixo_principal</th>\n",
              "      <th>Class</th>\n",
              "      <th>class_prof_nome</th>\n",
              "      <th>psep</th>\n",
              "      <th>pep</th>\n",
              "      <th>carga_horaria_prof</th>\n",
              "    </tr>\n",
              "    <tr>\n",
              "      <th>subeixo_disciplina</th>\n",
              "      <th></th>\n",
              "      <th></th>\n",
              "      <th></th>\n",
              "      <th></th>\n",
              "      <th></th>\n",
              "      <th></th>\n",
              "      <th></th>\n",
              "      <th></th>\n",
              "    </tr>\n",
              "  </thead>\n",
              "  <tbody>\n",
              "    <tr>\n",
              "      <th>enfermagem</th>\n",
              "      <td>subeixo</td>\n",
              "      <td>xxvi</td>\n",
              "      <td>amb.saúde e seg.</td>\n",
              "      <td>1.0</td>\n",
              "      <td>alessandra reinato wolff</td>\n",
              "      <td>FALSO</td>\n",
              "      <td>VERDADEIRO</td>\n",
              "      <td>14</td>\n",
              "    </tr>\n",
              "    <tr>\n",
              "      <th>enfermagem</th>\n",
              "      <td>subeixo</td>\n",
              "      <td>xxvi</td>\n",
              "      <td>amb.saúde e seg.</td>\n",
              "      <td>2.0</td>\n",
              "      <td>sabrina momesso vigano</td>\n",
              "      <td>FALSO</td>\n",
              "      <td>VERDADEIRO</td>\n",
              "      <td>26</td>\n",
              "    </tr>\n",
              "    <tr>\n",
              "      <th>enfermagem</th>\n",
              "      <td>subeixo</td>\n",
              "      <td>xxvi</td>\n",
              "      <td>amb.saúde e seg.</td>\n",
              "      <td>3.0</td>\n",
              "      <td>josicleide oliveira dos santos</td>\n",
              "      <td>FALSO</td>\n",
              "      <td>VERDADEIRO</td>\n",
              "      <td>14</td>\n",
              "    </tr>\n",
              "    <tr>\n",
              "      <th>enfermagem</th>\n",
              "      <td>subeixo</td>\n",
              "      <td>xxvi</td>\n",
              "      <td>amb.saúde e seg.</td>\n",
              "      <td>4.0</td>\n",
              "      <td>elisabete gomes leal</td>\n",
              "      <td>FALSO</td>\n",
              "      <td>VERDADEIRO</td>\n",
              "      <td>26</td>\n",
              "    </tr>\n",
              "    <tr>\n",
              "      <th>enfermagem</th>\n",
              "      <td>subeixo</td>\n",
              "      <td>xxvi</td>\n",
              "      <td>amb.saúde e seg.</td>\n",
              "      <td>5.0</td>\n",
              "      <td>adriana helena nechita</td>\n",
              "      <td>FALSO</td>\n",
              "      <td>VERDADEIRO</td>\n",
              "      <td>14</td>\n",
              "    </tr>\n",
              "    <tr>\n",
              "      <th>...</th>\n",
              "      <td>...</td>\n",
              "      <td>...</td>\n",
              "      <td>...</td>\n",
              "      <td>...</td>\n",
              "      <td>...</td>\n",
              "      <td>...</td>\n",
              "      <td>...</td>\n",
              "      <td>...</td>\n",
              "    </tr>\n",
              "    <tr>\n",
              "      <th>matemática estatística</th>\n",
              "      <td>subeixo</td>\n",
              "      <td>xxi</td>\n",
              "      <td>ciências exatas</td>\n",
              "      <td>3.0</td>\n",
              "      <td>vanessa silva pereira araujo</td>\n",
              "      <td>FALSO</td>\n",
              "      <td>VERDADEIRO</td>\n",
              "      <td>26</td>\n",
              "    </tr>\n",
              "    <tr>\n",
              "      <th>ciências exatas</th>\n",
              "      <td>área</td>\n",
              "      <td>NaN</td>\n",
              "      <td>ciências exatas</td>\n",
              "      <td>1.0</td>\n",
              "      <td>alexandre emigdio da silva</td>\n",
              "      <td>VERDADEIRO</td>\n",
              "      <td>FALSO</td>\n",
              "      <td>26</td>\n",
              "    </tr>\n",
              "    <tr>\n",
              "      <th>alimentos</th>\n",
              "      <td>subeixo</td>\n",
              "      <td>ii</td>\n",
              "      <td>hospitalidade e lazer</td>\n",
              "      <td>1.0</td>\n",
              "      <td>eriksen koji miyasaki</td>\n",
              "      <td>FALSO</td>\n",
              "      <td>VERDADEIRO</td>\n",
              "      <td>26</td>\n",
              "    </tr>\n",
              "    <tr>\n",
              "      <th>hotelaria</th>\n",
              "      <td>subeixo</td>\n",
              "      <td>NaN</td>\n",
              "      <td>hotelaria</td>\n",
              "      <td>1.0</td>\n",
              "      <td>tércia viadanna</td>\n",
              "      <td>FALSO</td>\n",
              "      <td>VERDADEIRO</td>\n",
              "      <td>14</td>\n",
              "    </tr>\n",
              "    <tr>\n",
              "      <th>alimentos</th>\n",
              "      <td>subeixo</td>\n",
              "      <td>ii</td>\n",
              "      <td>hospitalidade e lazer</td>\n",
              "      <td>NaN</td>\n",
              "      <td>izabela zulatto</td>\n",
              "      <td>VERDADEIRO</td>\n",
              "      <td>FALSO</td>\n",
              "      <td>14</td>\n",
              "    </tr>\n",
              "  </tbody>\n",
              "</table>\n",
              "<p>75 rows × 8 columns</p>\n",
              "</div>"
            ],
            "text/plain": [
              "                       subeixo_or_area  ... carga_horaria_prof\n",
              "subeixo_disciplina                      ...                   \n",
              "enfermagem                     subeixo  ...                 14\n",
              "enfermagem                     subeixo  ...                 26\n",
              "enfermagem                     subeixo  ...                 14\n",
              "enfermagem                     subeixo  ...                 26\n",
              "enfermagem                     subeixo  ...                 14\n",
              "...                                ...  ...                ...\n",
              "matemática estatística         subeixo  ...                 26\n",
              "ciências exatas                   área  ...                 26\n",
              "alimentos                      subeixo  ...                 26\n",
              "hotelaria                      subeixo  ...                 14\n",
              "alimentos                      subeixo  ...                 14\n",
              "\n",
              "[75 rows x 8 columns]"
            ]
          },
          "metadata": {
            "tags": []
          },
          "execution_count": 14
        }
      ]
    },
    {
      "cell_type": "code",
      "metadata": {
        "id": "lb1B4h59iwAG"
      },
      "source": [
        "ren_col = ({\"Class\":\"classificacao\"})\n",
        "df_professores=df_professores.rename(columns=ren_col)\n",
        "df_professores['carga_horaria_prof']=df_professores['carga_horaria_prof']"
      ],
      "execution_count": null,
      "outputs": []
    },
    {
      "cell_type": "code",
      "metadata": {
        "colab": {
          "base_uri": "https://localhost:8080/"
        },
        "id": "1D1Hfjppl90G",
        "outputId": "f65b537a-d9e7-4c1b-aabc-4c1322c3be80"
      },
      "source": [
        "df_professores.dtypes"
      ],
      "execution_count": null,
      "outputs": [
        {
          "output_type": "execute_result",
          "data": {
            "text/plain": [
              "subeixo_or_area        object\n",
              "subeixo_number         object\n",
              "eixo_principal         object\n",
              "classificacao         float64\n",
              "class_prof_nome        object\n",
              "psep                   object\n",
              "pep                    object\n",
              "carga_horaria_prof      int64\n",
              "dtype: object"
            ]
          },
          "metadata": {
            "tags": []
          },
          "execution_count": 16
        }
      ]
    },
    {
      "cell_type": "code",
      "metadata": {
        "colab": {
          "base_uri": "https://localhost:8080/"
        },
        "id": "3SNlBh4lmLld",
        "outputId": "dd2322e7-fec8-4409-c7c6-a41e25fe5bef"
      },
      "source": [
        "df_professores['classificacao'].isnull().sum()"
      ],
      "execution_count": null,
      "outputs": [
        {
          "output_type": "execute_result",
          "data": {
            "text/plain": [
              "1"
            ]
          },
          "metadata": {
            "tags": []
          },
          "execution_count": 17
        }
      ]
    },
    {
      "cell_type": "code",
      "metadata": {
        "colab": {
          "base_uri": "https://localhost:8080/"
        },
        "id": "DrMqHXypoWcC",
        "outputId": "564aa50f-c536-4d89-d106-083c192c7c72"
      },
      "source": [
        "df_professores['classificacao'].isna().sum()"
      ],
      "execution_count": null,
      "outputs": [
        {
          "output_type": "execute_result",
          "data": {
            "text/plain": [
              "1"
            ]
          },
          "metadata": {
            "tags": []
          },
          "execution_count": 18
        }
      ]
    },
    {
      "cell_type": "code",
      "metadata": {
        "id": "pkWF97_NoZ85"
      },
      "source": [
        "df_professores['classificacao']=df_professores['classificacao'].fillna(0)"
      ],
      "execution_count": null,
      "outputs": []
    },
    {
      "cell_type": "code",
      "metadata": {
        "id": "xWyRZ7ceohRh"
      },
      "source": [
        "df_professores['classificacao']=df_professores['classificacao'].astype(np.int16)"
      ],
      "execution_count": null,
      "outputs": []
    },
    {
      "cell_type": "code",
      "metadata": {
        "colab": {
          "base_uri": "https://localhost:8080/",
          "height": 226
        },
        "id": "yjhBl734j7eh",
        "outputId": "044a68e4-7e9f-4966-b72b-a253e843a961"
      },
      "source": [
        "df_professores.head(3)"
      ],
      "execution_count": null,
      "outputs": [
        {
          "output_type": "execute_result",
          "data": {
            "text/html": [
              "<div>\n",
              "<style scoped>\n",
              "    .dataframe tbody tr th:only-of-type {\n",
              "        vertical-align: middle;\n",
              "    }\n",
              "\n",
              "    .dataframe tbody tr th {\n",
              "        vertical-align: top;\n",
              "    }\n",
              "\n",
              "    .dataframe thead th {\n",
              "        text-align: right;\n",
              "    }\n",
              "</style>\n",
              "<table border=\"1\" class=\"dataframe\">\n",
              "  <thead>\n",
              "    <tr style=\"text-align: right;\">\n",
              "      <th></th>\n",
              "      <th>subeixo_or_area</th>\n",
              "      <th>subeixo_number</th>\n",
              "      <th>eixo_principal</th>\n",
              "      <th>classificacao</th>\n",
              "      <th>class_prof_nome</th>\n",
              "      <th>psep</th>\n",
              "      <th>pep</th>\n",
              "      <th>carga_horaria_prof</th>\n",
              "    </tr>\n",
              "    <tr>\n",
              "      <th>subeixo_disciplina</th>\n",
              "      <th></th>\n",
              "      <th></th>\n",
              "      <th></th>\n",
              "      <th></th>\n",
              "      <th></th>\n",
              "      <th></th>\n",
              "      <th></th>\n",
              "      <th></th>\n",
              "    </tr>\n",
              "  </thead>\n",
              "  <tbody>\n",
              "    <tr>\n",
              "      <th>enfermagem</th>\n",
              "      <td>subeixo</td>\n",
              "      <td>xxvi</td>\n",
              "      <td>amb.saúde e seg.</td>\n",
              "      <td>1</td>\n",
              "      <td>alessandra reinato wolff</td>\n",
              "      <td>FALSO</td>\n",
              "      <td>VERDADEIRO</td>\n",
              "      <td>14</td>\n",
              "    </tr>\n",
              "    <tr>\n",
              "      <th>enfermagem</th>\n",
              "      <td>subeixo</td>\n",
              "      <td>xxvi</td>\n",
              "      <td>amb.saúde e seg.</td>\n",
              "      <td>2</td>\n",
              "      <td>sabrina momesso vigano</td>\n",
              "      <td>FALSO</td>\n",
              "      <td>VERDADEIRO</td>\n",
              "      <td>26</td>\n",
              "    </tr>\n",
              "    <tr>\n",
              "      <th>enfermagem</th>\n",
              "      <td>subeixo</td>\n",
              "      <td>xxvi</td>\n",
              "      <td>amb.saúde e seg.</td>\n",
              "      <td>3</td>\n",
              "      <td>josicleide oliveira dos santos</td>\n",
              "      <td>FALSO</td>\n",
              "      <td>VERDADEIRO</td>\n",
              "      <td>14</td>\n",
              "    </tr>\n",
              "  </tbody>\n",
              "</table>\n",
              "</div>"
            ],
            "text/plain": [
              "                   subeixo_or_area  ... carga_horaria_prof\n",
              "subeixo_disciplina                  ...                   \n",
              "enfermagem                 subeixo  ...                 14\n",
              "enfermagem                 subeixo  ...                 26\n",
              "enfermagem                 subeixo  ...                 14\n",
              "\n",
              "[3 rows x 8 columns]"
            ]
          },
          "metadata": {
            "tags": []
          },
          "execution_count": 21
        }
      ]
    },
    {
      "cell_type": "code",
      "metadata": {
        "colab": {
          "base_uri": "https://localhost:8080/",
          "height": 622
        },
        "id": "g2QrcdFmkZYz",
        "outputId": "caa40209-7467-4145-f197-a6bc580aa4ae"
      },
      "source": [
        "eixos_das_disciplinas =[]\n",
        "#para cada disciplina dos cursos abertos:\n",
        "for i in disciplinas_necessarias.index:\n",
        "#procure a disciplina na planilha dos professores:\n",
        "    try:\n",
        "        #tentar achar todas as disciplinas\n",
        "        df_professores.loc[i]\n",
        "     #se não achar a disciplina volte esta mensagem   \n",
        "    except KeyError:\n",
        "        print(f\"não temos professor para o eixo: {i}\")\n",
        "        \n",
        "     #se achar a disciplina coloca na lista dos eixos_das_disciplinas   \n",
        "    else:\n",
        "        eixos_das_disciplinas.append(i)\n",
        "        \n",
        "#agoram me traga por disciplinas quem são os professores\n",
        "#professores_1 = df_professores.pep == \"VERDADEIRO\"\n",
        "#professores_2 = df_professores[\"class_prof_nome\"]\n",
        "#professores_filtro = eixos_das_disciplinas & professores_1 \n",
        "\n",
        "professores_rascunho_1 = df_professores.loc[eixos_das_disciplinas,[\"class_prof_nome\",\"pep\",\"classificacao\",\"carga_horaria_prof\"]]\n",
        "#f_professores.loc[[eixos_das_disciplinas],[\"pep\"]==\"VERDADEIRO\"]\n",
        "professores_3 = professores_rascunho_1.pep==\"VERDADEIRO\"\n",
        "professores_4 = professores_rascunho_1.classificacao>5\n",
        "\n",
        "professores_total = professores_3 & professores_4 \n",
        "professores_rascunho_2= professores_rascunho_1[professores_total]\n",
        "professores_rascunho_2"
      ],
      "execution_count": null,
      "outputs": [
        {
          "output_type": "stream",
          "text": [
            "não temos professor para o eixo: matemática\n",
            "não temos professor para o eixo: hospitalidade\n",
            "não temos professor para o eixo: máquinas e equipamentos\n",
            "não temos professor para o eixo: desenho\n"
          ],
          "name": "stdout"
        },
        {
          "output_type": "execute_result",
          "data": {
            "text/html": [
              "<div>\n",
              "<style scoped>\n",
              "    .dataframe tbody tr th:only-of-type {\n",
              "        vertical-align: middle;\n",
              "    }\n",
              "\n",
              "    .dataframe tbody tr th {\n",
              "        vertical-align: top;\n",
              "    }\n",
              "\n",
              "    .dataframe thead th {\n",
              "        text-align: right;\n",
              "    }\n",
              "</style>\n",
              "<table border=\"1\" class=\"dataframe\">\n",
              "  <thead>\n",
              "    <tr style=\"text-align: right;\">\n",
              "      <th></th>\n",
              "      <th>class_prof_nome</th>\n",
              "      <th>pep</th>\n",
              "      <th>classificacao</th>\n",
              "      <th>carga_horaria_prof</th>\n",
              "    </tr>\n",
              "    <tr>\n",
              "      <th>subeixo_disciplina</th>\n",
              "      <th></th>\n",
              "      <th></th>\n",
              "      <th></th>\n",
              "      <th></th>\n",
              "    </tr>\n",
              "  </thead>\n",
              "  <tbody>\n",
              "    <tr>\n",
              "      <th>administração</th>\n",
              "      <td>fernando sabino da silva</td>\n",
              "      <td>VERDADEIRO</td>\n",
              "      <td>6</td>\n",
              "      <td>26</td>\n",
              "    </tr>\n",
              "    <tr>\n",
              "      <th>administração</th>\n",
              "      <td>fernando elias borges</td>\n",
              "      <td>VERDADEIRO</td>\n",
              "      <td>7</td>\n",
              "      <td>26</td>\n",
              "    </tr>\n",
              "    <tr>\n",
              "      <th>administração</th>\n",
              "      <td>osmar alves teixeira</td>\n",
              "      <td>VERDADEIRO</td>\n",
              "      <td>8</td>\n",
              "      <td>14</td>\n",
              "    </tr>\n",
              "    <tr>\n",
              "      <th>administração</th>\n",
              "      <td>luciana de paiva meira</td>\n",
              "      <td>VERDADEIRO</td>\n",
              "      <td>9</td>\n",
              "      <td>26</td>\n",
              "    </tr>\n",
              "    <tr>\n",
              "      <th>administração</th>\n",
              "      <td>diego salviano de matos</td>\n",
              "      <td>VERDADEIRO</td>\n",
              "      <td>10</td>\n",
              "      <td>26</td>\n",
              "    </tr>\n",
              "    <tr>\n",
              "      <th>administração</th>\n",
              "      <td>gleida de carvalho inácio</td>\n",
              "      <td>VERDADEIRO</td>\n",
              "      <td>11</td>\n",
              "      <td>14</td>\n",
              "    </tr>\n",
              "    <tr>\n",
              "      <th>informática</th>\n",
              "      <td>vera lúcia paque gales guimarães</td>\n",
              "      <td>VERDADEIRO</td>\n",
              "      <td>6</td>\n",
              "      <td>14</td>\n",
              "    </tr>\n",
              "    <tr>\n",
              "      <th>informática</th>\n",
              "      <td>valéria cristina gomes leal</td>\n",
              "      <td>VERDADEIRO</td>\n",
              "      <td>7</td>\n",
              "      <td>14</td>\n",
              "    </tr>\n",
              "    <tr>\n",
              "      <th>informática</th>\n",
              "      <td>denilson josé pereira</td>\n",
              "      <td>VERDADEIRO</td>\n",
              "      <td>8</td>\n",
              "      <td>14</td>\n",
              "    </tr>\n",
              "    <tr>\n",
              "      <th>informática</th>\n",
              "      <td>gustavo baroni steger</td>\n",
              "      <td>VERDADEIRO</td>\n",
              "      <td>9</td>\n",
              "      <td>26</td>\n",
              "    </tr>\n",
              "    <tr>\n",
              "      <th>informática</th>\n",
              "      <td>rodolfo da silva santos</td>\n",
              "      <td>VERDADEIRO</td>\n",
              "      <td>10</td>\n",
              "      <td>26</td>\n",
              "    </tr>\n",
              "    <tr>\n",
              "      <th>informática</th>\n",
              "      <td>ricardo augusto bueno</td>\n",
              "      <td>VERDADEIRO</td>\n",
              "      <td>11</td>\n",
              "      <td>14</td>\n",
              "    </tr>\n",
              "    <tr>\n",
              "      <th>informática</th>\n",
              "      <td>julio cesar de paula</td>\n",
              "      <td>VERDADEIRO</td>\n",
              "      <td>12</td>\n",
              "      <td>14</td>\n",
              "    </tr>\n",
              "    <tr>\n",
              "      <th>enfermagem</th>\n",
              "      <td>estefanie siqueira vigato</td>\n",
              "      <td>VERDADEIRO</td>\n",
              "      <td>6</td>\n",
              "      <td>14</td>\n",
              "    </tr>\n",
              "    <tr>\n",
              "      <th>enfermagem</th>\n",
              "      <td>gustavo faria oliveira</td>\n",
              "      <td>VERDADEIRO</td>\n",
              "      <td>7</td>\n",
              "      <td>14</td>\n",
              "    </tr>\n",
              "  </tbody>\n",
              "</table>\n",
              "</div>"
            ],
            "text/plain": [
              "                                     class_prof_nome  ... carga_horaria_prof\n",
              "subeixo_disciplina                                    ...                   \n",
              "administração               fernando sabino da silva  ...                 26\n",
              "administração                  fernando elias borges  ...                 26\n",
              "administração                   osmar alves teixeira  ...                 14\n",
              "administração                 luciana de paiva meira  ...                 26\n",
              "administração                diego salviano de matos  ...                 26\n",
              "administração              gleida de carvalho inácio  ...                 14\n",
              "informática         vera lúcia paque gales guimarães  ...                 14\n",
              "informática              valéria cristina gomes leal  ...                 14\n",
              "informática                    denilson josé pereira  ...                 14\n",
              "informática                    gustavo baroni steger  ...                 26\n",
              "informática                  rodolfo da silva santos  ...                 26\n",
              "informática                    ricardo augusto bueno  ...                 14\n",
              "informática                     julio cesar de paula  ...                 14\n",
              "enfermagem                 estefanie siqueira vigato  ...                 14\n",
              "enfermagem                    gustavo faria oliveira  ...                 14\n",
              "\n",
              "[15 rows x 4 columns]"
            ]
          },
          "metadata": {
            "tags": []
          },
          "execution_count": 22
        }
      ]
    },
    {
      "cell_type": "code",
      "metadata": {
        "colab": {
          "base_uri": "https://localhost:8080/",
          "height": 268
        },
        "id": "2JIyDAMeo5HE",
        "outputId": "5c82ac01-474a-494d-d077-7a8449b80c6e"
      },
      "source": [
        "administracao = professores_rascunho_2.loc['administração']\n",
        "administracao_prof= administracao.set_index(\"class_prof_nome\")\n",
        "administracao_prof"
      ],
      "execution_count": null,
      "outputs": [
        {
          "output_type": "execute_result",
          "data": {
            "text/html": [
              "<div>\n",
              "<style scoped>\n",
              "    .dataframe tbody tr th:only-of-type {\n",
              "        vertical-align: middle;\n",
              "    }\n",
              "\n",
              "    .dataframe tbody tr th {\n",
              "        vertical-align: top;\n",
              "    }\n",
              "\n",
              "    .dataframe thead th {\n",
              "        text-align: right;\n",
              "    }\n",
              "</style>\n",
              "<table border=\"1\" class=\"dataframe\">\n",
              "  <thead>\n",
              "    <tr style=\"text-align: right;\">\n",
              "      <th></th>\n",
              "      <th>pep</th>\n",
              "      <th>classificacao</th>\n",
              "      <th>carga_horaria_prof</th>\n",
              "    </tr>\n",
              "    <tr>\n",
              "      <th>class_prof_nome</th>\n",
              "      <th></th>\n",
              "      <th></th>\n",
              "      <th></th>\n",
              "    </tr>\n",
              "  </thead>\n",
              "  <tbody>\n",
              "    <tr>\n",
              "      <th>fernando sabino da silva</th>\n",
              "      <td>VERDADEIRO</td>\n",
              "      <td>6</td>\n",
              "      <td>26</td>\n",
              "    </tr>\n",
              "    <tr>\n",
              "      <th>fernando elias borges</th>\n",
              "      <td>VERDADEIRO</td>\n",
              "      <td>7</td>\n",
              "      <td>26</td>\n",
              "    </tr>\n",
              "    <tr>\n",
              "      <th>osmar alves teixeira</th>\n",
              "      <td>VERDADEIRO</td>\n",
              "      <td>8</td>\n",
              "      <td>14</td>\n",
              "    </tr>\n",
              "    <tr>\n",
              "      <th>luciana de paiva meira</th>\n",
              "      <td>VERDADEIRO</td>\n",
              "      <td>9</td>\n",
              "      <td>26</td>\n",
              "    </tr>\n",
              "    <tr>\n",
              "      <th>diego salviano de matos</th>\n",
              "      <td>VERDADEIRO</td>\n",
              "      <td>10</td>\n",
              "      <td>26</td>\n",
              "    </tr>\n",
              "    <tr>\n",
              "      <th>gleida de carvalho inácio</th>\n",
              "      <td>VERDADEIRO</td>\n",
              "      <td>11</td>\n",
              "      <td>14</td>\n",
              "    </tr>\n",
              "  </tbody>\n",
              "</table>\n",
              "</div>"
            ],
            "text/plain": [
              "                                  pep  classificacao  carga_horaria_prof\n",
              "class_prof_nome                                                         \n",
              "fernando sabino da silva   VERDADEIRO              6                  26\n",
              "fernando elias borges      VERDADEIRO              7                  26\n",
              "osmar alves teixeira       VERDADEIRO              8                  14\n",
              "luciana de paiva meira     VERDADEIRO              9                  26\n",
              "diego salviano de matos    VERDADEIRO             10                  26\n",
              "gleida de carvalho inácio  VERDADEIRO             11                  14"
            ]
          },
          "metadata": {
            "tags": []
          },
          "execution_count": 23
        }
      ]
    },
    {
      "cell_type": "code",
      "metadata": {
        "colab": {
          "base_uri": "https://localhost:8080/"
        },
        "id": "_Sr8W9SwpFG3",
        "outputId": "93068c2f-0b16-483b-b49b-cc182e71260a"
      },
      "source": [
        "administracao_prof.index.is_unique"
      ],
      "execution_count": null,
      "outputs": [
        {
          "output_type": "execute_result",
          "data": {
            "text/plain": [
              "True"
            ]
          },
          "metadata": {
            "tags": []
          },
          "execution_count": 24
        }
      ]
    },
    {
      "cell_type": "code",
      "metadata": {
        "id": "_8cy3h6yp4-6"
      },
      "source": [
        "adm= administracao_prof.to_json(orient ='index',force_ascii=False)"
      ],
      "execution_count": null,
      "outputs": []
    },
    {
      "cell_type": "code",
      "metadata": {
        "colab": {
          "base_uri": "https://localhost:8080/",
          "height": 90
        },
        "id": "mXfwawObp7S9",
        "outputId": "a7bb3307-89ec-45a8-ca09-60aa7f151cb9"
      },
      "source": [
        "adm"
      ],
      "execution_count": null,
      "outputs": [
        {
          "output_type": "execute_result",
          "data": {
            "application/vnd.google.colaboratory.intrinsic+json": {
              "type": "string"
            },
            "text/plain": [
              "'{\"fernando sabino da silva\":{\"pep\":\"VERDADEIRO\",\"classificacao\":6,\"carga_horaria_prof\":26},\"fernando elias borges\":{\"pep\":\"VERDADEIRO\",\"classificacao\":7,\"carga_horaria_prof\":26},\"osmar alves teixeira\":{\"pep\":\"VERDADEIRO\",\"classificacao\":8,\"carga_horaria_prof\":14},\"luciana de paiva meira\":{\"pep\":\"VERDADEIRO\",\"classificacao\":9,\"carga_horaria_prof\":26},\"diego salviano de matos\":{\"pep\":\"VERDADEIRO\",\"classificacao\":10,\"carga_horaria_prof\":26},\"gleida de carvalho inácio\":{\"pep\":\"VERDADEIRO\",\"classificacao\":11,\"carga_horaria_prof\":14}}'"
            ]
          },
          "metadata": {
            "tags": []
          },
          "execution_count": 26
        }
      ]
    },
    {
      "cell_type": "code",
      "metadata": {
        "id": "r0bF6W0HwiLT"
      },
      "source": [
        "adm_new = {\"administracao\":{\"professor\":adm}}"
      ],
      "execution_count": null,
      "outputs": []
    },
    {
      "cell_type": "code",
      "metadata": {
        "colab": {
          "base_uri": "https://localhost:8080/"
        },
        "id": "EDW87Hz3w6eP",
        "outputId": "39635cce-2585-4f9e-b4b3-e676c890f611"
      },
      "source": [
        "adm_new"
      ],
      "execution_count": null,
      "outputs": [
        {
          "output_type": "execute_result",
          "data": {
            "text/plain": [
              "{'administracao': {'professor': '{\"fernando sabino da silva\":{\"pep\":\"VERDADEIRO\",\"classificacao\":6,\"carga_horaria_prof\":26},\"fernando elias borges\":{\"pep\":\"VERDADEIRO\",\"classificacao\":7,\"carga_horaria_prof\":26},\"osmar alves teixeira\":{\"pep\":\"VERDADEIRO\",\"classificacao\":8,\"carga_horaria_prof\":14},\"luciana de paiva meira\":{\"pep\":\"VERDADEIRO\",\"classificacao\":9,\"carga_horaria_prof\":26},\"diego salviano de matos\":{\"pep\":\"VERDADEIRO\",\"classificacao\":10,\"carga_horaria_prof\":26},\"gleida de carvalho inácio\":{\"pep\":\"VERDADEIRO\",\"classificacao\":11,\"carga_horaria_prof\":14}}'}}"
            ]
          },
          "metadata": {
            "tags": []
          },
          "execution_count": 28
        }
      ]
    },
    {
      "cell_type": "code",
      "metadata": {
        "colab": {
          "base_uri": "https://localhost:8080/",
          "height": 299
        },
        "id": "nMNWaAjYzYNQ",
        "outputId": "a929910f-6c2f-49e1-c1d7-046b25b1c240"
      },
      "source": [
        "informatica = professores_rascunho_2.loc['informática']\n",
        "informatica_prof= informatica.set_index(\"class_prof_nome\")\n",
        "informatica_prof"
      ],
      "execution_count": null,
      "outputs": [
        {
          "output_type": "execute_result",
          "data": {
            "text/html": [
              "<div>\n",
              "<style scoped>\n",
              "    .dataframe tbody tr th:only-of-type {\n",
              "        vertical-align: middle;\n",
              "    }\n",
              "\n",
              "    .dataframe tbody tr th {\n",
              "        vertical-align: top;\n",
              "    }\n",
              "\n",
              "    .dataframe thead th {\n",
              "        text-align: right;\n",
              "    }\n",
              "</style>\n",
              "<table border=\"1\" class=\"dataframe\">\n",
              "  <thead>\n",
              "    <tr style=\"text-align: right;\">\n",
              "      <th></th>\n",
              "      <th>pep</th>\n",
              "      <th>classificacao</th>\n",
              "      <th>carga_horaria_prof</th>\n",
              "    </tr>\n",
              "    <tr>\n",
              "      <th>class_prof_nome</th>\n",
              "      <th></th>\n",
              "      <th></th>\n",
              "      <th></th>\n",
              "    </tr>\n",
              "  </thead>\n",
              "  <tbody>\n",
              "    <tr>\n",
              "      <th>vera lúcia paque gales guimarães</th>\n",
              "      <td>VERDADEIRO</td>\n",
              "      <td>6</td>\n",
              "      <td>14</td>\n",
              "    </tr>\n",
              "    <tr>\n",
              "      <th>valéria cristina gomes leal</th>\n",
              "      <td>VERDADEIRO</td>\n",
              "      <td>7</td>\n",
              "      <td>14</td>\n",
              "    </tr>\n",
              "    <tr>\n",
              "      <th>denilson josé pereira</th>\n",
              "      <td>VERDADEIRO</td>\n",
              "      <td>8</td>\n",
              "      <td>14</td>\n",
              "    </tr>\n",
              "    <tr>\n",
              "      <th>gustavo baroni steger</th>\n",
              "      <td>VERDADEIRO</td>\n",
              "      <td>9</td>\n",
              "      <td>26</td>\n",
              "    </tr>\n",
              "    <tr>\n",
              "      <th>rodolfo da silva santos</th>\n",
              "      <td>VERDADEIRO</td>\n",
              "      <td>10</td>\n",
              "      <td>26</td>\n",
              "    </tr>\n",
              "    <tr>\n",
              "      <th>ricardo augusto bueno</th>\n",
              "      <td>VERDADEIRO</td>\n",
              "      <td>11</td>\n",
              "      <td>14</td>\n",
              "    </tr>\n",
              "    <tr>\n",
              "      <th>julio cesar de paula</th>\n",
              "      <td>VERDADEIRO</td>\n",
              "      <td>12</td>\n",
              "      <td>14</td>\n",
              "    </tr>\n",
              "  </tbody>\n",
              "</table>\n",
              "</div>"
            ],
            "text/plain": [
              "                                         pep  classificacao  carga_horaria_prof\n",
              "class_prof_nome                                                                \n",
              "vera lúcia paque gales guimarães  VERDADEIRO              6                  14\n",
              "valéria cristina gomes leal       VERDADEIRO              7                  14\n",
              "denilson josé pereira             VERDADEIRO              8                  14\n",
              "gustavo baroni steger             VERDADEIRO              9                  26\n",
              "rodolfo da silva santos           VERDADEIRO             10                  26\n",
              "ricardo augusto bueno             VERDADEIRO             11                  14\n",
              "julio cesar de paula              VERDADEIRO             12                  14"
            ]
          },
          "metadata": {
            "tags": []
          },
          "execution_count": 29
        }
      ]
    },
    {
      "cell_type": "code",
      "metadata": {
        "colab": {
          "base_uri": "https://localhost:8080/"
        },
        "id": "5Kgypytu0b6g",
        "outputId": "725851da-cbc3-4d77-ecf8-c31ee37837de"
      },
      "source": [
        "informatica_prof.index.is_unique"
      ],
      "execution_count": null,
      "outputs": [
        {
          "output_type": "execute_result",
          "data": {
            "text/plain": [
              "True"
            ]
          },
          "metadata": {
            "tags": []
          },
          "execution_count": 30
        }
      ]
    },
    {
      "cell_type": "code",
      "metadata": {
        "id": "KPcIuR050joB"
      },
      "source": [
        "info= informatica_prof.to_json(orient ='index',force_ascii=False)"
      ],
      "execution_count": null,
      "outputs": []
    },
    {
      "cell_type": "code",
      "metadata": {
        "colab": {
          "base_uri": "https://localhost:8080/",
          "height": 108
        },
        "id": "PuXd-xtm0qpu",
        "outputId": "3826815f-801e-4d5e-d6d7-4972b3b00da8"
      },
      "source": [
        "info"
      ],
      "execution_count": null,
      "outputs": [
        {
          "output_type": "execute_result",
          "data": {
            "application/vnd.google.colaboratory.intrinsic+json": {
              "type": "string"
            },
            "text/plain": [
              "'{\"vera lúcia paque gales guimarães\":{\"pep\":\"VERDADEIRO\",\"classificacao\":6,\"carga_horaria_prof\":14},\"valéria cristina gomes leal\":{\"pep\":\"VERDADEIRO\",\"classificacao\":7,\"carga_horaria_prof\":14},\"denilson josé pereira\":{\"pep\":\"VERDADEIRO\",\"classificacao\":8,\"carga_horaria_prof\":14},\"gustavo baroni steger\":{\"pep\":\"VERDADEIRO\",\"classificacao\":9,\"carga_horaria_prof\":26},\"rodolfo da silva santos\":{\"pep\":\"VERDADEIRO\",\"classificacao\":10,\"carga_horaria_prof\":26},\"ricardo augusto bueno\":{\"pep\":\"VERDADEIRO\",\"classificacao\":11,\"carga_horaria_prof\":14},\"julio cesar de paula\":{\"pep\":\"VERDADEIRO\",\"classificacao\":12,\"carga_horaria_prof\":14}}'"
            ]
          },
          "metadata": {
            "tags": []
          },
          "execution_count": 32
        }
      ]
    },
    {
      "cell_type": "code",
      "metadata": {
        "id": "LyWEDN8U1tpR"
      },
      "source": [
        "info_new = {'informática':{\"professor\":info}}"
      ],
      "execution_count": null,
      "outputs": []
    },
    {
      "cell_type": "code",
      "metadata": {
        "colab": {
          "base_uri": "https://localhost:8080/"
        },
        "id": "VDoEmNU913Wh",
        "outputId": "96c402c1-0fbf-4938-8c1a-a8323fb3b5fd"
      },
      "source": [
        "info_new"
      ],
      "execution_count": null,
      "outputs": [
        {
          "output_type": "execute_result",
          "data": {
            "text/plain": [
              "{'informática': {'professor': '{\"vera lúcia paque gales guimarães\":{\"pep\":\"VERDADEIRO\",\"classificacao\":6,\"carga_horaria_prof\":14},\"valéria cristina gomes leal\":{\"pep\":\"VERDADEIRO\",\"classificacao\":7,\"carga_horaria_prof\":14},\"denilson josé pereira\":{\"pep\":\"VERDADEIRO\",\"classificacao\":8,\"carga_horaria_prof\":14},\"gustavo baroni steger\":{\"pep\":\"VERDADEIRO\",\"classificacao\":9,\"carga_horaria_prof\":26},\"rodolfo da silva santos\":{\"pep\":\"VERDADEIRO\",\"classificacao\":10,\"carga_horaria_prof\":26},\"ricardo augusto bueno\":{\"pep\":\"VERDADEIRO\",\"classificacao\":11,\"carga_horaria_prof\":14},\"julio cesar de paula\":{\"pep\":\"VERDADEIRO\",\"classificacao\":12,\"carga_horaria_prof\":14}}'}}"
            ]
          },
          "metadata": {
            "tags": []
          },
          "execution_count": 34
        }
      ]
    },
    {
      "cell_type": "code",
      "metadata": {
        "colab": {
          "base_uri": "https://localhost:8080/",
          "height": 143
        },
        "id": "myps6NTI29SH",
        "outputId": "1066a783-34f4-4f20-c92a-02a76f030b77"
      },
      "source": [
        "enfermagem = professores_rascunho_2.loc['enfermagem']\n",
        "enfermagem_prof= enfermagem.set_index(\"class_prof_nome\")\n",
        "enfermagem_prof"
      ],
      "execution_count": null,
      "outputs": [
        {
          "output_type": "execute_result",
          "data": {
            "text/html": [
              "<div>\n",
              "<style scoped>\n",
              "    .dataframe tbody tr th:only-of-type {\n",
              "        vertical-align: middle;\n",
              "    }\n",
              "\n",
              "    .dataframe tbody tr th {\n",
              "        vertical-align: top;\n",
              "    }\n",
              "\n",
              "    .dataframe thead th {\n",
              "        text-align: right;\n",
              "    }\n",
              "</style>\n",
              "<table border=\"1\" class=\"dataframe\">\n",
              "  <thead>\n",
              "    <tr style=\"text-align: right;\">\n",
              "      <th></th>\n",
              "      <th>pep</th>\n",
              "      <th>classificacao</th>\n",
              "      <th>carga_horaria_prof</th>\n",
              "    </tr>\n",
              "    <tr>\n",
              "      <th>class_prof_nome</th>\n",
              "      <th></th>\n",
              "      <th></th>\n",
              "      <th></th>\n",
              "    </tr>\n",
              "  </thead>\n",
              "  <tbody>\n",
              "    <tr>\n",
              "      <th>estefanie siqueira vigato</th>\n",
              "      <td>VERDADEIRO</td>\n",
              "      <td>6</td>\n",
              "      <td>14</td>\n",
              "    </tr>\n",
              "    <tr>\n",
              "      <th>gustavo faria oliveira</th>\n",
              "      <td>VERDADEIRO</td>\n",
              "      <td>7</td>\n",
              "      <td>14</td>\n",
              "    </tr>\n",
              "  </tbody>\n",
              "</table>\n",
              "</div>"
            ],
            "text/plain": [
              "                                  pep  classificacao  carga_horaria_prof\n",
              "class_prof_nome                                                         \n",
              "estefanie siqueira vigato  VERDADEIRO              6                  14\n",
              "gustavo faria oliveira     VERDADEIRO              7                  14"
            ]
          },
          "metadata": {
            "tags": []
          },
          "execution_count": 35
        }
      ]
    },
    {
      "cell_type": "code",
      "metadata": {
        "colab": {
          "base_uri": "https://localhost:8080/"
        },
        "id": "Q36AqJ9e3TMW",
        "outputId": "effe32df-db9f-43cb-f93b-a927592632f7"
      },
      "source": [
        "informatica_prof.index.is_unique"
      ],
      "execution_count": null,
      "outputs": [
        {
          "output_type": "execute_result",
          "data": {
            "text/plain": [
              "True"
            ]
          },
          "metadata": {
            "tags": []
          },
          "execution_count": 36
        }
      ]
    },
    {
      "cell_type": "code",
      "metadata": {
        "colab": {
          "base_uri": "https://localhost:8080/",
          "height": 54
        },
        "id": "OjiGAc3W3Zip",
        "outputId": "0761a2c1-bd41-4b29-f63a-16bf0e56473a"
      },
      "source": [
        "enf= enfermagem_prof.to_json(orient ='index',force_ascii=False)\n",
        "enf"
      ],
      "execution_count": null,
      "outputs": [
        {
          "output_type": "execute_result",
          "data": {
            "application/vnd.google.colaboratory.intrinsic+json": {
              "type": "string"
            },
            "text/plain": [
              "'{\"estefanie siqueira vigato\":{\"pep\":\"VERDADEIRO\",\"classificacao\":6,\"carga_horaria_prof\":14},\"gustavo faria oliveira\":{\"pep\":\"VERDADEIRO\",\"classificacao\":7,\"carga_horaria_prof\":14}}'"
            ]
          },
          "metadata": {
            "tags": []
          },
          "execution_count": 37
        }
      ]
    },
    {
      "cell_type": "code",
      "metadata": {
        "id": "zqc5c_2K3WpA"
      },
      "source": [
        "enf_new = {'enfermagem':{\"professor\":enf}}"
      ],
      "execution_count": null,
      "outputs": []
    },
    {
      "cell_type": "code",
      "metadata": {
        "colab": {
          "base_uri": "https://localhost:8080/"
        },
        "id": "a2dAl4K74Euh",
        "outputId": "749113ec-8c5d-4789-f2b1-d6abd5521700"
      },
      "source": [
        "enf_new"
      ],
      "execution_count": null,
      "outputs": [
        {
          "output_type": "execute_result",
          "data": {
            "text/plain": [
              "{'enfermagem': {'professor': '{\"estefanie siqueira vigato\":{\"pep\":\"VERDADEIRO\",\"classificacao\":6,\"carga_horaria_prof\":14},\"gustavo faria oliveira\":{\"pep\":\"VERDADEIRO\",\"classificacao\":7,\"carga_horaria_prof\":14}}'}}"
            ]
          },
          "metadata": {
            "tags": []
          },
          "execution_count": 39
        }
      ]
    },
    {
      "cell_type": "code",
      "metadata": {
        "id": "Fx63m39I1Y5u"
      },
      "source": [
        "disc_total= {\"disciplinas\":[adm_new , info_new,enf_new]}"
      ],
      "execution_count": null,
      "outputs": []
    },
    {
      "cell_type": "code",
      "metadata": {
        "colab": {
          "base_uri": "https://localhost:8080/"
        },
        "id": "6Vfalovo1_yf",
        "outputId": "06ec4228-2c69-4225-bc37-b282c96eb152"
      },
      "source": [
        "disc_total"
      ],
      "execution_count": null,
      "outputs": [
        {
          "output_type": "execute_result",
          "data": {
            "text/plain": [
              "{'disciplinas': [{'administracao': {'professor': '{\"fernando sabino da silva\":{\"pep\":\"VERDADEIRO\",\"classificacao\":6,\"carga_horaria_prof\":26},\"fernando elias borges\":{\"pep\":\"VERDADEIRO\",\"classificacao\":7,\"carga_horaria_prof\":26},\"osmar alves teixeira\":{\"pep\":\"VERDADEIRO\",\"classificacao\":8,\"carga_horaria_prof\":14},\"luciana de paiva meira\":{\"pep\":\"VERDADEIRO\",\"classificacao\":9,\"carga_horaria_prof\":26},\"diego salviano de matos\":{\"pep\":\"VERDADEIRO\",\"classificacao\":10,\"carga_horaria_prof\":26},\"gleida de carvalho inácio\":{\"pep\":\"VERDADEIRO\",\"classificacao\":11,\"carga_horaria_prof\":14}}'}},\n",
              "  {'informática': {'professor': '{\"vera lúcia paque gales guimarães\":{\"pep\":\"VERDADEIRO\",\"classificacao\":6,\"carga_horaria_prof\":14},\"valéria cristina gomes leal\":{\"pep\":\"VERDADEIRO\",\"classificacao\":7,\"carga_horaria_prof\":14},\"denilson josé pereira\":{\"pep\":\"VERDADEIRO\",\"classificacao\":8,\"carga_horaria_prof\":14},\"gustavo baroni steger\":{\"pep\":\"VERDADEIRO\",\"classificacao\":9,\"carga_horaria_prof\":26},\"rodolfo da silva santos\":{\"pep\":\"VERDADEIRO\",\"classificacao\":10,\"carga_horaria_prof\":26},\"ricardo augusto bueno\":{\"pep\":\"VERDADEIRO\",\"classificacao\":11,\"carga_horaria_prof\":14},\"julio cesar de paula\":{\"pep\":\"VERDADEIRO\",\"classificacao\":12,\"carga_horaria_prof\":14}}'}},\n",
              "  {'enfermagem': {'professor': '{\"estefanie siqueira vigato\":{\"pep\":\"VERDADEIRO\",\"classificacao\":6,\"carga_horaria_prof\":14},\"gustavo faria oliveira\":{\"pep\":\"VERDADEIRO\",\"classificacao\":7,\"carga_horaria_prof\":14}}'}}]}"
            ]
          },
          "metadata": {
            "tags": []
          },
          "execution_count": 41
        }
      ]
    },
    {
      "cell_type": "code",
      "metadata": {
        "id": "0PpM4rSCrzDO"
      },
      "source": [
        "agente_de_seg_trab = df_disciplinas_dos_cursos.set_index(['curso_nome'])"
      ],
      "execution_count": null,
      "outputs": []
    },
    {
      "cell_type": "code",
      "metadata": {
        "colab": {
          "base_uri": "https://localhost:8080/",
          "height": 372
        },
        "id": "p0ocJcKFtv6_",
        "outputId": "2301c363-7b7f-43a2-fa25-d40d2bf510a3"
      },
      "source": [
        "agente_de_seg_trab.loc['agente de segurança do trabalho e higiene ocupacional']"
      ],
      "execution_count": null,
      "outputs": [
        {
          "output_type": "execute_result",
          "data": {
            "text/html": [
              "<div>\n",
              "<style scoped>\n",
              "    .dataframe tbody tr th:only-of-type {\n",
              "        vertical-align: middle;\n",
              "    }\n",
              "\n",
              "    .dataframe tbody tr th {\n",
              "        vertical-align: top;\n",
              "    }\n",
              "\n",
              "    .dataframe thead th {\n",
              "        text-align: right;\n",
              "    }\n",
              "</style>\n",
              "<table border=\"1\" class=\"dataframe\">\n",
              "  <thead>\n",
              "    <tr style=\"text-align: right;\">\n",
              "      <th></th>\n",
              "      <th>disciplina_nome</th>\n",
              "      <th>disciplina_eixo_nome</th>\n",
              "      <th>carga_hora_semana</th>\n",
              "      <th>carga_horária_total_disciplina</th>\n",
              "    </tr>\n",
              "    <tr>\n",
              "      <th>curso_nome</th>\n",
              "      <th></th>\n",
              "      <th></th>\n",
              "      <th></th>\n",
              "      <th></th>\n",
              "    </tr>\n",
              "  </thead>\n",
              "  <tbody>\n",
              "    <tr>\n",
              "      <th>agente de segurança do trabalho e higiene ocupacional</th>\n",
              "      <td>prevenção e controle de riscos</td>\n",
              "      <td>segurança</td>\n",
              "      <td>2</td>\n",
              "      <td>40</td>\n",
              "    </tr>\n",
              "    <tr>\n",
              "      <th>agente de segurança do trabalho e higiene ocupacional</th>\n",
              "      <td>direito e legislação trabalhista</td>\n",
              "      <td>direito</td>\n",
              "      <td>2</td>\n",
              "      <td>40</td>\n",
              "    </tr>\n",
              "    <tr>\n",
              "      <th>agente de segurança do trabalho e higiene ocupacional</th>\n",
              "      <td>gerenciamento de epi e epc</td>\n",
              "      <td>máquinas e equipamentos</td>\n",
              "      <td>2</td>\n",
              "      <td>40</td>\n",
              "    </tr>\n",
              "    <tr>\n",
              "      <th>agente de segurança do trabalho e higiene ocupacional</th>\n",
              "      <td>normas regulamentadoras</td>\n",
              "      <td>segurança</td>\n",
              "      <td>2</td>\n",
              "      <td>40</td>\n",
              "    </tr>\n",
              "    <tr>\n",
              "      <th>agente de segurança do trabalho e higiene ocupacional</th>\n",
              "      <td>higiene ocupacional</td>\n",
              "      <td>segurança</td>\n",
              "      <td>2</td>\n",
              "      <td>40</td>\n",
              "    </tr>\n",
              "    <tr>\n",
              "      <th>agente de segurança do trabalho e higiene ocupacional</th>\n",
              "      <td>metodologia de projetos</td>\n",
              "      <td>segurança</td>\n",
              "      <td>2</td>\n",
              "      <td>40</td>\n",
              "    </tr>\n",
              "  </tbody>\n",
              "</table>\n",
              "</div>"
            ],
            "text/plain": [
              "                                                                     disciplina_nome  ... carga_horária_total_disciplina\n",
              "curso_nome                                                                            ...                               \n",
              "agente de segurança do trabalho e higiene ocupa...    prevenção e controle de riscos  ...                             40\n",
              "agente de segurança do trabalho e higiene ocupa...  direito e legislação trabalhista  ...                             40\n",
              "agente de segurança do trabalho e higiene ocupa...        gerenciamento de epi e epc  ...                             40\n",
              "agente de segurança do trabalho e higiene ocupa...           normas regulamentadoras  ...                             40\n",
              "agente de segurança do trabalho e higiene ocupa...               higiene ocupacional  ...                             40\n",
              "agente de segurança do trabalho e higiene ocupa...           metodologia de projetos  ...                             40\n",
              "\n",
              "[6 rows x 4 columns]"
            ]
          },
          "metadata": {
            "tags": []
          },
          "execution_count": 43
        }
      ]
    },
    {
      "cell_type": "code",
      "metadata": {
        "colab": {
          "base_uri": "https://localhost:8080/"
        },
        "id": "WgPBirVjuAG7",
        "outputId": "74d4de36-233c-454d-900f-d60c8776d4a2"
      },
      "source": [
        "professores_rascunho_2.value_counts('subeixo_disciplina').index"
      ],
      "execution_count": null,
      "outputs": [
        {
          "output_type": "execute_result",
          "data": {
            "text/plain": [
              "Index(['informática', 'administração', 'enfermagem'], dtype='object', name='subeixo_disciplina')"
            ]
          },
          "metadata": {
            "tags": []
          },
          "execution_count": 44
        }
      ]
    },
    {
      "cell_type": "code",
      "metadata": {
        "colab": {
          "base_uri": "https://localhost:8080/"
        },
        "id": "s5H8Z8LazsLD",
        "outputId": "6c1406bf-f9ef-4dd7-eae5-7864d565a4c2"
      },
      "source": [
        "#contruindo o dicionário -Refactoring\n",
        "lista_1=[]\n",
        "for i in professores_rascunho_2.value_counts('subeixo_disciplina').index:\n",
        "    lista_1.append(i)\n",
        "\n",
        "print(lista_1)\n",
        "\n",
        "\n",
        "\n"
      ],
      "execution_count": null,
      "outputs": [
        {
          "output_type": "stream",
          "text": [
            "['informática', 'administração', 'enfermagem']\n"
          ],
          "name": "stdout"
        }
      ]
    },
    {
      "cell_type": "code",
      "metadata": {
        "id": "KL8QJ25MEcE6"
      },
      "source": [
        "df_disciplinas_dos_cursos=df_disciplinas_dos_cursos.set_index(\"curso_nome\")"
      ],
      "execution_count": null,
      "outputs": []
    },
    {
      "cell_type": "code",
      "metadata": {
        "id": "qfHioShGxDm6"
      },
      "source": [
        "lista_dos_cursos = df_disciplinas_dos_cursos.index.value_counts().index.to_list()\n",
        "lista_dos_cursos_reverse = lista_dos_cursos[::-1]\n"
      ],
      "execution_count": null,
      "outputs": []
    },
    {
      "cell_type": "code",
      "metadata": {
        "colab": {
          "base_uri": "https://localhost:8080/"
        },
        "id": "f1uhqdEs1KDQ",
        "outputId": "0cf646e0-fba4-437e-8c5b-ca8538beba70"
      },
      "source": [
        "lista_dos_cursos_reverse"
      ],
      "execution_count": null,
      "outputs": [
        {
          "output_type": "execute_result",
          "data": {
            "text/plain": [
              "['porteiro básico',\n",
              " 'informática básica',\n",
              " 'práticas de escritório',\n",
              " 'desenho técnico',\n",
              " 'cuidador de pessoas',\n",
              " 'inglês para atendimento comercial',\n",
              " 'português e matemática para concursos públicos e enem',\n",
              " 'auxiliar de departamento pessoal',\n",
              " 'auxiliar de logística',\n",
              " 'introdução a jogos diferencial',\n",
              " 'auxiliar de escritório',\n",
              " 'controlador de acesso',\n",
              " 'agente de controle à endemias',\n",
              " 'controlador de acesso diferencial',\n",
              " 'cuidador de pessoas diferencial',\n",
              " 'auxiliar financeiro',\n",
              " 'auxiliar de logística diferencial',\n",
              " 'criação de werbsites diferencial',\n",
              " 'cuidador de idosos diferencial',\n",
              " 'padeiro/confeiteiro',\n",
              " 'auxiliar de laboratório de química',\n",
              " 'agente de segurança do trabalho e higiene ocupacional',\n",
              " 'garçom',\n",
              " 'auxiliar de escritório diferencial',\n",
              " 'microempreendedor diferencial',\n",
              " 'almoxarife',\n",
              " 'auxiliar administrativo']"
            ]
          },
          "metadata": {
            "tags": []
          },
          "execution_count": 49
        }
      ]
    },
    {
      "cell_type": "code",
      "metadata": {
        "id": "-xoLI41m5FbA"
      },
      "source": [
        "file_path =\"/content/drive/MyDrive/ColabNotebooks/Projeto_Fumec/bases_tratadas/\"\n",
        "file_cursos_abertos = \"tabela_curso_versus_disciplina.csv\" \n",
        "\n",
        "with open(f\"{file_path}{file_cursos_abertos}\",'r',encoding=\"utf8\") as f:\n",
        "    df_disciplinas_dos_cursos_test = pd.read_csv(f,sep=';')"
      ],
      "execution_count": null,
      "outputs": []
    },
    {
      "cell_type": "code",
      "metadata": {
        "colab": {
          "base_uri": "https://localhost:8080/",
          "height": 543
        },
        "id": "QPhDdqwn69Vv",
        "outputId": "6d1318b7-a9a3-4762-c4c4-3fcc7b65830f"
      },
      "source": [
        "df_disciplinas_dos_cursos_test"
      ],
      "execution_count": null,
      "outputs": [
        {
          "output_type": "execute_result",
          "data": {
            "text/html": [
              "<div>\n",
              "<style scoped>\n",
              "    .dataframe tbody tr th:only-of-type {\n",
              "        vertical-align: middle;\n",
              "    }\n",
              "\n",
              "    .dataframe tbody tr th {\n",
              "        vertical-align: top;\n",
              "    }\n",
              "\n",
              "    .dataframe thead th {\n",
              "        text-align: right;\n",
              "    }\n",
              "</style>\n",
              "<table border=\"1\" class=\"dataframe\">\n",
              "  <thead>\n",
              "    <tr style=\"text-align: right;\">\n",
              "      <th></th>\n",
              "      <th>curso_nome</th>\n",
              "      <th>disciplina_nome</th>\n",
              "      <th>disciplina_eixo_nome</th>\n",
              "      <th>carga_hora_semana</th>\n",
              "      <th>carga_horária_total_disciplina</th>\n",
              "    </tr>\n",
              "  </thead>\n",
              "  <tbody>\n",
              "    <tr>\n",
              "      <th>0</th>\n",
              "      <td>agente de segurança do trabalho e higiene ocup...</td>\n",
              "      <td>prevenção e controle de riscos</td>\n",
              "      <td>segurança</td>\n",
              "      <td>2</td>\n",
              "      <td>40</td>\n",
              "    </tr>\n",
              "    <tr>\n",
              "      <th>1</th>\n",
              "      <td>agente de segurança do trabalho e higiene ocup...</td>\n",
              "      <td>direito e legislação trabalhista</td>\n",
              "      <td>direito</td>\n",
              "      <td>2</td>\n",
              "      <td>40</td>\n",
              "    </tr>\n",
              "    <tr>\n",
              "      <th>2</th>\n",
              "      <td>agente de segurança do trabalho e higiene ocup...</td>\n",
              "      <td>gerenciamento de epi e epc</td>\n",
              "      <td>máquinas e equipamentos</td>\n",
              "      <td>2</td>\n",
              "      <td>40</td>\n",
              "    </tr>\n",
              "    <tr>\n",
              "      <th>3</th>\n",
              "      <td>agente de segurança do trabalho e higiene ocup...</td>\n",
              "      <td>normas regulamentadoras</td>\n",
              "      <td>segurança</td>\n",
              "      <td>2</td>\n",
              "      <td>40</td>\n",
              "    </tr>\n",
              "    <tr>\n",
              "      <th>4</th>\n",
              "      <td>agente de segurança do trabalho e higiene ocup...</td>\n",
              "      <td>higiene ocupacional</td>\n",
              "      <td>segurança</td>\n",
              "      <td>2</td>\n",
              "      <td>40</td>\n",
              "    </tr>\n",
              "    <tr>\n",
              "      <th>...</th>\n",
              "      <td>...</td>\n",
              "      <td>...</td>\n",
              "      <td>...</td>\n",
              "      <td>...</td>\n",
              "      <td>...</td>\n",
              "    </tr>\n",
              "    <tr>\n",
              "      <th>90</th>\n",
              "      <td>padeiro/confeiteiro</td>\n",
              "      <td>resíduos sólidos</td>\n",
              "      <td>meio ambiente</td>\n",
              "      <td>2</td>\n",
              "      <td>40</td>\n",
              "    </tr>\n",
              "    <tr>\n",
              "      <th>91</th>\n",
              "      <td>porteiro básico</td>\n",
              "      <td>administração</td>\n",
              "      <td>administração</td>\n",
              "      <td>8</td>\n",
              "      <td>160</td>\n",
              "    </tr>\n",
              "    <tr>\n",
              "      <th>92</th>\n",
              "      <td>português e matemática para concursos públicos...</td>\n",
              "      <td>português</td>\n",
              "      <td>português</td>\n",
              "      <td>8</td>\n",
              "      <td>160</td>\n",
              "    </tr>\n",
              "    <tr>\n",
              "      <th>93</th>\n",
              "      <td>português e matemática para concursos públicos...</td>\n",
              "      <td>matemática</td>\n",
              "      <td>matemática</td>\n",
              "      <td>8</td>\n",
              "      <td>160</td>\n",
              "    </tr>\n",
              "    <tr>\n",
              "      <th>94</th>\n",
              "      <td>práticas de escritório</td>\n",
              "      <td>administração</td>\n",
              "      <td>administração</td>\n",
              "      <td>8</td>\n",
              "      <td>160</td>\n",
              "    </tr>\n",
              "  </tbody>\n",
              "</table>\n",
              "<p>95 rows × 5 columns</p>\n",
              "</div>"
            ],
            "text/plain": [
              "                                           curso_nome  ... carga_horária_total_disciplina\n",
              "0   agente de segurança do trabalho e higiene ocup...  ...                             40\n",
              "1   agente de segurança do trabalho e higiene ocup...  ...                             40\n",
              "2   agente de segurança do trabalho e higiene ocup...  ...                             40\n",
              "3   agente de segurança do trabalho e higiene ocup...  ...                             40\n",
              "4   agente de segurança do trabalho e higiene ocup...  ...                             40\n",
              "..                                                ...  ...                            ...\n",
              "90                                padeiro/confeiteiro  ...                             40\n",
              "91                                    porteiro básico  ...                            160\n",
              "92  português e matemática para concursos públicos...  ...                            160\n",
              "93  português e matemática para concursos públicos...  ...                            160\n",
              "94                             práticas de escritório  ...                            160\n",
              "\n",
              "[95 rows x 5 columns]"
            ]
          },
          "metadata": {
            "tags": []
          },
          "execution_count": 51
        }
      ]
    },
    {
      "cell_type": "code",
      "metadata": {
        "id": "QtBftzva6-sA"
      },
      "source": [
        "lista_de_disciplinas_dos_cursos = df_disciplinas_dos_cursos_test['curso_nome'].value_counts().index.to_list()"
      ],
      "execution_count": null,
      "outputs": []
    },
    {
      "cell_type": "code",
      "metadata": {
        "colab": {
          "base_uri": "https://localhost:8080/"
        },
        "id": "97RaISDD7PtY",
        "outputId": "d1610bc9-46ba-4603-8e4b-0612608b2e15"
      },
      "source": [
        "lista_dos_cursos"
      ],
      "execution_count": null,
      "outputs": [
        {
          "output_type": "execute_result",
          "data": {
            "text/plain": [
              "['auxiliar administrativo',\n",
              " 'almoxarife',\n",
              " 'microempreendedor diferencial',\n",
              " 'auxiliar de escritório diferencial',\n",
              " 'garçom',\n",
              " 'agente de segurança do trabalho e higiene ocupacional',\n",
              " 'auxiliar de laboratório de química',\n",
              " 'padeiro/confeiteiro',\n",
              " 'cuidador de idosos diferencial',\n",
              " 'criação de werbsites diferencial',\n",
              " 'auxiliar de logística diferencial',\n",
              " 'auxiliar financeiro',\n",
              " 'cuidador de pessoas diferencial',\n",
              " 'controlador de acesso diferencial',\n",
              " 'agente de controle à endemias',\n",
              " 'controlador de acesso',\n",
              " 'auxiliar de escritório',\n",
              " 'introdução a jogos diferencial',\n",
              " 'auxiliar de logística',\n",
              " 'auxiliar de departamento pessoal',\n",
              " 'português e matemática para concursos públicos e enem',\n",
              " 'inglês para atendimento comercial',\n",
              " 'cuidador de pessoas',\n",
              " 'desenho técnico',\n",
              " 'práticas de escritório',\n",
              " 'informática básica',\n",
              " 'porteiro básico']"
            ]
          },
          "metadata": {
            "tags": []
          },
          "execution_count": 53
        }
      ]
    },
    {
      "cell_type": "code",
      "metadata": {
        "id": "5676-dlR9Wtb"
      },
      "source": [
        "lista_dos_cursos_2 = lista_dos_cursos.copy()\n"
      ],
      "execution_count": null,
      "outputs": []
    },
    {
      "cell_type": "code",
      "metadata": {
        "colab": {
          "base_uri": "https://localhost:8080/"
        },
        "id": "_h5WWSv87yu3",
        "outputId": "8937d80d-77c3-4ae9-f57a-084ae68f9f01"
      },
      "source": [
        "disc={}\n",
        "while lista_dos_cursos_2:\n",
        "    pesquisa = lista_dos_cursos_2.pop()\n",
        "    curso = df_disciplinas_dos_cursos_test.curso_nome == pesquisa\n",
        "    pesquisa_curso = df_disciplinas_dos_cursos_test[curso]\n",
        "\n",
        "    disc[pesquisa]= pesquisa_curso.to_json(orient ='index',force_ascii=False)\n",
        "\n",
        "print(disc)\n",
        "\n",
        "\n",
        "#enf= enfermagem_prof.to_json(orient ='index',force_ascii=False)"
      ],
      "execution_count": null,
      "outputs": [
        {
          "output_type": "stream",
          "text": [
            "{'porteiro básico': '{\"91\":{\"curso_nome\":\"porteiro básico\",\"disciplina_nome\":\"administração\",\"disciplina_eixo_nome\":\"administração\",\"carga_hora_semana\":8,\"carga_horária_total_disciplina\":160}}', 'informática básica': '{\"76\":{\"curso_nome\":\"informática básica\",\"disciplina_nome\":\"informática\",\"disciplina_eixo_nome\":\"informática\",\"carga_hora_semana\":8,\"carga_horária_total_disciplina\":160}}', 'práticas de escritório': '{\"94\":{\"curso_nome\":\"práticas de escritório\",\"disciplina_nome\":\"administração\",\"disciplina_eixo_nome\":\"administração\",\"carga_hora_semana\":8,\"carga_horária_total_disciplina\":160}}', 'desenho técnico': '{\"69\":{\"curso_nome\":\"desenho técnico\",\"disciplina_nome\":\"desenho\",\"disciplina_eixo_nome\":\"desenho\",\"carga_hora_semana\":4,\"carga_horária_total_disciplina\":80}}', 'cuidador de pessoas': '{\"66\":{\"curso_nome\":\"cuidador de pessoas\",\"disciplina_nome\":\"enfermagem\",\"disciplina_eixo_nome\":\"enfermagem\",\"carga_hora_semana\":12,\"carga_horária_total_disciplina\":240}}', 'inglês para atendimento comercial': '{\"77\":{\"curso_nome\":\"inglês para atendimento comercial\",\"disciplina_nome\":\"inglês\",\"disciplina_eixo_nome\":\"inglês\",\"carga_hora_semana\":12,\"carga_horária_total_disciplina\":240}}', 'português e matemática para concursos públicos e enem': '{\"92\":{\"curso_nome\":\"português e matemática para concursos públicos e enem\",\"disciplina_nome\":\"português\",\"disciplina_eixo_nome\":\"português\",\"carga_hora_semana\":8,\"carga_horária_total_disciplina\":160},\"93\":{\"curso_nome\":\"português e matemática para concursos públicos e enem\",\"disciplina_nome\":\"matemática\",\"disciplina_eixo_nome\":\"matemática\",\"carga_hora_semana\":8,\"carga_horária_total_disciplina\":160}}', 'auxiliar de departamento pessoal': '{\"28\":{\"curso_nome\":\"auxiliar de departamento pessoal\",\"disciplina_nome\":\"informática\",\"disciplina_eixo_nome\":\"informática\",\"carga_hora_semana\":4,\"carga_horária_total_disciplina\":80},\"29\":{\"curso_nome\":\"auxiliar de departamento pessoal\",\"disciplina_nome\":\"administração\",\"disciplina_eixo_nome\":\"administração\",\"carga_hora_semana\":8,\"carga_horária_total_disciplina\":160}}', 'auxiliar de logística': '{\"43\":{\"curso_nome\":\"auxiliar de logística\",\"disciplina_nome\":\"informática\",\"disciplina_eixo_nome\":\"informática\",\"carga_hora_semana\":4,\"carga_horária_total_disciplina\":80},\"47\":{\"curso_nome\":\"auxiliar de logística\",\"disciplina_nome\":\"logística\",\"disciplina_eixo_nome\":\"logística\",\"carga_hora_semana\":8,\"carga_horária_total_disciplina\":160}}', 'introdução a jogos diferencial': '{\"78\":{\"curso_nome\":\"introdução a jogos diferencial\",\"disciplina_nome\":\"algorítmo\\\\/ programação\",\"disciplina_eixo_nome\":\"informática\",\"carga_hora_semana\":16,\"carga_horária_total_disciplina\":160},\"79\":{\"curso_nome\":\"introdução a jogos diferencial\",\"disciplina_nome\":\"inglês\",\"disciplina_eixo_nome\":\"inglês\",\"carga_hora_semana\":4,\"carga_horária_total_disciplina\":40}}', 'auxiliar de escritório': '{\"33\":{\"curso_nome\":\"auxiliar de escritório\",\"disciplina_nome\":\"informática\",\"disciplina_eixo_nome\":\"informática\",\"carga_hora_semana\":4,\"carga_horária_total_disciplina\":80},\"36\":{\"curso_nome\":\"auxiliar de escritório\",\"disciplina_nome\":\"administração\",\"disciplina_eixo_nome\":\"administração\",\"carga_hora_semana\":8,\"carga_horária_total_disciplina\":160}}', 'controlador de acesso': '{\"53\":{\"curso_nome\":\"controlador de acesso\",\"disciplina_nome\":\"administração\",\"disciplina_eixo_nome\":\"administração\",\"carga_hora_semana\":8,\"carga_horária_total_disciplina\":160},\"54\":{\"curso_nome\":\"controlador de acesso\",\"disciplina_nome\":\"informática\",\"disciplina_eixo_nome\":\"informática\",\"carga_hora_semana\":4,\"carga_horária_total_disciplina\":80}}', 'agente de controle à endemias': '{\"6\":{\"curso_nome\":\"agente de controle à endemias\",\"disciplina_nome\":\"cidadania\",\"disciplina_eixo_nome\":\"cidadania\",\"carga_hora_semana\":2,\"carga_horária_total_disciplina\":40},\"7\":{\"curso_nome\":\"agente de controle à endemias\",\"disciplina_nome\":\"endemias\",\"disciplina_eixo_nome\":\"meio ambiente\",\"carga_hora_semana\":8,\"carga_horária_total_disciplina\":160},\"8\":{\"curso_nome\":\"agente de controle à endemias\",\"disciplina_nome\":\"saneamento\",\"disciplina_eixo_nome\":\"meio ambiente\",\"carga_hora_semana\":2,\"carga_horária_total_disciplina\":40}}', 'controlador de acesso diferencial': '{\"52\":{\"curso_nome\":\"controlador de acesso diferencial\",\"disciplina_nome\":\"direito\",\"disciplina_eixo_nome\":\"direito\",\"carga_hora_semana\":2,\"carga_horária_total_disciplina\":20},\"55\":{\"curso_nome\":\"controlador de acesso diferencial\",\"disciplina_nome\":\"administração\",\"disciplina_eixo_nome\":\"administração\",\"carga_hora_semana\":16,\"carga_horária_total_disciplina\":160},\"56\":{\"curso_nome\":\"controlador de acesso diferencial\",\"disciplina_nome\":\"informática\",\"disciplina_eixo_nome\":\"informática\",\"carga_hora_semana\":2,\"carga_horária_total_disciplina\":20}}', 'cuidador de pessoas diferencial': '{\"65\":{\"curso_nome\":\"cuidador de pessoas diferencial\",\"disciplina_nome\":\"direito\",\"disciplina_eixo_nome\":\"direito\",\"carga_hora_semana\":2,\"carga_horária_total_disciplina\":20},\"67\":{\"curso_nome\":\"cuidador de pessoas diferencial\",\"disciplina_nome\":\"ética\",\"disciplina_eixo_nome\":\"cidadania\",\"carga_hora_semana\":2,\"carga_horária_total_disciplina\":20},\"68\":{\"curso_nome\":\"cuidador de pessoas diferencial\",\"disciplina_nome\":\"enfermagem\",\"disciplina_eixo_nome\":\"enfermagem\",\"carga_hora_semana\":16,\"carga_horária_total_disciplina\":160}}', 'auxiliar financeiro': '{\"49\":{\"curso_nome\":\"auxiliar financeiro\",\"disciplina_nome\":\"administração\",\"disciplina_eixo_nome\":\"administração\",\"carga_hora_semana\":6,\"carga_horária_total_disciplina\":120},\"50\":{\"curso_nome\":\"auxiliar financeiro\",\"disciplina_nome\":\"matemática\",\"disciplina_eixo_nome\":\"matemática\",\"carga_hora_semana\":2,\"carga_horária_total_disciplina\":40},\"51\":{\"curso_nome\":\"auxiliar financeiro\",\"disciplina_nome\":\"informática\",\"disciplina_eixo_nome\":\"informática\",\"carga_hora_semana\":4,\"carga_horária_total_disciplina\":80}}', 'auxiliar de logística diferencial': '{\"44\":{\"curso_nome\":\"auxiliar de logística diferencial\",\"disciplina_nome\":\"matemática\",\"disciplina_eixo_nome\":\"matemática\",\"carga_hora_semana\":2,\"carga_horária_total_disciplina\":20},\"45\":{\"curso_nome\":\"auxiliar de logística diferencial\",\"disciplina_nome\":\"logística\",\"disciplina_eixo_nome\":\"logística\",\"carga_hora_semana\":12,\"carga_horária_total_disciplina\":120},\"46\":{\"curso_nome\":\"auxiliar de logística diferencial\",\"disciplina_nome\":\"direito\",\"disciplina_eixo_nome\":\"direito\",\"carga_hora_semana\":2,\"carga_horária_total_disciplina\":20},\"48\":{\"curso_nome\":\"auxiliar de logística diferencial\",\"disciplina_nome\":\"informática\",\"disciplina_eixo_nome\":\"informática\",\"carga_hora_semana\":4,\"carga_horária_total_disciplina\":40}}', 'criação de werbsites diferencial': '{\"57\":{\"curso_nome\":\"criação de werbsites diferencial\",\"disciplina_nome\":\"empreendedorismo\",\"disciplina_eixo_nome\":\"administração\",\"carga_hora_semana\":2,\"carga_horária_total_disciplina\":20},\"58\":{\"curso_nome\":\"criação de werbsites diferencial\",\"disciplina_nome\":\"banco de dados\\\\/ plataforma cms\",\"disciplina_eixo_nome\":\"informática\",\"carga_hora_semana\":8,\"carga_horária_total_disciplina\":80},\"59\":{\"curso_nome\":\"criação de werbsites diferencial\",\"disciplina_nome\":\"marketing\",\"disciplina_eixo_nome\":\"administração\",\"carga_hora_semana\":2,\"carga_horária_total_disciplina\":20},\"60\":{\"curso_nome\":\"criação de werbsites diferencial\",\"disciplina_nome\":\"html\\\\/ css\",\"disciplina_eixo_nome\":\"informática\",\"carga_hora_semana\":8,\"carga_horária_total_disciplina\":80}}', 'cuidador de idosos diferencial': '{\"61\":{\"curso_nome\":\"cuidador de idosos diferencial\",\"disciplina_nome\":\"direito\",\"disciplina_eixo_nome\":\"direito\",\"carga_hora_semana\":2,\"carga_horária_total_disciplina\":20},\"62\":{\"curso_nome\":\"cuidador de idosos diferencial\",\"disciplina_nome\":\"enfermagem\",\"disciplina_eixo_nome\":\"enfermagem\",\"carga_hora_semana\":12,\"carga_horária_total_disciplina\":120},\"63\":{\"curso_nome\":\"cuidador de idosos diferencial\",\"disciplina_nome\":\"cidadania\",\"disciplina_eixo_nome\":\"cidadania\",\"carga_hora_semana\":2,\"carga_horária_total_disciplina\":20},\"64\":{\"curso_nome\":\"cuidador de idosos diferencial\",\"disciplina_nome\":\"ética\",\"disciplina_eixo_nome\":\"cidadania\",\"carga_hora_semana\":2,\"carga_horária_total_disciplina\":20}}', 'padeiro/confeiteiro': '{\"87\":{\"curso_nome\":\"padeiro\\\\/confeiteiro\",\"disciplina_nome\":\"matemática\",\"disciplina_eixo_nome\":\"matemática\",\"carga_hora_semana\":3,\"carga_horária_total_disciplina\":60},\"88\":{\"curso_nome\":\"padeiro\\\\/confeiteiro\",\"disciplina_nome\":\"padaria\",\"disciplina_eixo_nome\":\"alimentos\",\"carga_hora_semana\":13,\"carga_horária_total_disciplina\":260},\"89\":{\"curso_nome\":\"padeiro\\\\/confeiteiro\",\"disciplina_nome\":\"empreendedorismo\",\"disciplina_eixo_nome\":\"administração\",\"carga_hora_semana\":2,\"carga_horária_total_disciplina\":40},\"90\":{\"curso_nome\":\"padeiro\\\\/confeiteiro\",\"disciplina_nome\":\"resíduos sólidos\",\"disciplina_eixo_nome\":\"meio ambiente\",\"carga_hora_semana\":2,\"carga_horária_total_disciplina\":40}}', 'auxiliar de laboratório de química': '{\"38\":{\"curso_nome\":\"auxiliar de laboratório de química\",\"disciplina_nome\":\"segurança do trabalho\",\"disciplina_eixo_nome\":\"segurança\",\"carga_hora_semana\":2,\"carga_horária_total_disciplina\":40},\"39\":{\"curso_nome\":\"auxiliar de laboratório de química\",\"disciplina_nome\":\"técnicas laboratoriais\",\"disciplina_eixo_nome\":\"meio ambiente\",\"carga_hora_semana\":10,\"carga_horária_total_disciplina\":200},\"40\":{\"curso_nome\":\"auxiliar de laboratório de química\",\"disciplina_nome\":\"ética\",\"disciplina_eixo_nome\":\"cidadania\",\"carga_hora_semana\":2,\"carga_horária_total_disciplina\":40},\"41\":{\"curso_nome\":\"auxiliar de laboratório de química\",\"disciplina_nome\":\"química geral\",\"disciplina_eixo_nome\":\"meio ambiente\",\"carga_hora_semana\":4,\"carga_horária_total_disciplina\":80},\"42\":{\"curso_nome\":\"auxiliar de laboratório de química\",\"disciplina_nome\":\"química orgânica\",\"disciplina_eixo_nome\":\"meio ambiente\",\"carga_hora_semana\":2,\"carga_horária_total_disciplina\":40}}', 'agente de segurança do trabalho e higiene ocupacional': '{\"0\":{\"curso_nome\":\"agente de segurança do trabalho e higiene ocupacional\",\"disciplina_nome\":\"prevenção e controle de riscos\",\"disciplina_eixo_nome\":\"segurança\",\"carga_hora_semana\":2,\"carga_horária_total_disciplina\":40},\"1\":{\"curso_nome\":\"agente de segurança do trabalho e higiene ocupacional\",\"disciplina_nome\":\"direito e legislação trabalhista\",\"disciplina_eixo_nome\":\"direito\",\"carga_hora_semana\":2,\"carga_horária_total_disciplina\":40},\"2\":{\"curso_nome\":\"agente de segurança do trabalho e higiene ocupacional\",\"disciplina_nome\":\"gerenciamento de epi e epc\",\"disciplina_eixo_nome\":\"máquinas e equipamentos\",\"carga_hora_semana\":2,\"carga_horária_total_disciplina\":40},\"3\":{\"curso_nome\":\"agente de segurança do trabalho e higiene ocupacional\",\"disciplina_nome\":\"normas regulamentadoras\",\"disciplina_eixo_nome\":\"segurança\",\"carga_hora_semana\":2,\"carga_horária_total_disciplina\":40},\"4\":{\"curso_nome\":\"agente de segurança do trabalho e higiene ocupacional\",\"disciplina_nome\":\"higiene ocupacional\",\"disciplina_eixo_nome\":\"segurança\",\"carga_hora_semana\":2,\"carga_horária_total_disciplina\":40},\"5\":{\"curso_nome\":\"agente de segurança do trabalho e higiene ocupacional\",\"disciplina_nome\":\"metodologia de projetos\",\"disciplina_eixo_nome\":\"segurança\",\"carga_hora_semana\":2,\"carga_horária_total_disciplina\":40}}', 'garçom': '{\"70\":{\"curso_nome\":\"garçom\",\"disciplina_nome\":\"direito\",\"disciplina_eixo_nome\":\"direito\",\"carga_hora_semana\":2,\"carga_horária_total_disciplina\":40},\"71\":{\"curso_nome\":\"garçom\",\"disciplina_nome\":\"matemática básica\",\"disciplina_eixo_nome\":\"matemática\",\"carga_hora_semana\":2,\"carga_horária_total_disciplina\":40},\"72\":{\"curso_nome\":\"garçom\",\"disciplina_nome\":\"técnicas de serviços de garçom\",\"disciplina_eixo_nome\":\"hospitalidade\",\"carga_hora_semana\":6,\"carga_horária_total_disciplina\":120},\"73\":{\"curso_nome\":\"garçom\",\"disciplina_nome\":\"segurança do trabalho\",\"disciplina_eixo_nome\":\"segurança\",\"carga_hora_semana\":2,\"carga_horária_total_disciplina\":40},\"74\":{\"curso_nome\":\"garçom\",\"disciplina_nome\":\"fundamentos do turismo e hospitalidade\",\"disciplina_eixo_nome\":\"hospitalidade\",\"carga_hora_semana\":2,\"carga_horária_total_disciplina\":40},\"75\":{\"curso_nome\":\"garçom\",\"disciplina_nome\":\"atividades administrativas e atendimento e comunicação?\",\"disciplina_eixo_nome\":\"administração\",\"carga_hora_semana\":2,\"carga_horária_total_disciplina\":40}}', 'auxiliar de escritório diferencial': '{\"30\":{\"curso_nome\":\"auxiliar de escritório diferencial\",\"disciplina_nome\":\"cidadania\",\"disciplina_eixo_nome\":\"cidadania\",\"carga_hora_semana\":2,\"carga_horária_total_disciplina\":20},\"31\":{\"curso_nome\":\"auxiliar de escritório diferencial\",\"disciplina_nome\":\"português\",\"disciplina_eixo_nome\":\"português\",\"carga_hora_semana\":2,\"carga_horária_total_disciplina\":20},\"32\":{\"curso_nome\":\"auxiliar de escritório diferencial\",\"disciplina_nome\":\"administração\",\"disciplina_eixo_nome\":\"administração\",\"carga_hora_semana\":8,\"carga_horária_total_disciplina\":80},\"34\":{\"curso_nome\":\"auxiliar de escritório diferencial\",\"disciplina_nome\":\"direito\",\"disciplina_eixo_nome\":\"direito\",\"carga_hora_semana\":4,\"carga_horária_total_disciplina\":40},\"35\":{\"curso_nome\":\"auxiliar de escritório diferencial\",\"disciplina_nome\":\"matemática\",\"disciplina_eixo_nome\":\"matemática\",\"carga_hora_semana\":2,\"carga_horária_total_disciplina\":20},\"37\":{\"curso_nome\":\"auxiliar de escritório diferencial\",\"disciplina_nome\":\"informática\",\"disciplina_eixo_nome\":\"informática\",\"carga_hora_semana\":2,\"carga_horária_total_disciplina\":20}}', 'microempreendedor diferencial': '{\"80\":{\"curso_nome\":\"microempreendedor diferencial\",\"disciplina_nome\":\"direito\",\"disciplina_eixo_nome\":\"direito\",\"carga_hora_semana\":4,\"carga_horária_total_disciplina\":40},\"81\":{\"curso_nome\":\"microempreendedor diferencial\",\"disciplina_nome\":\"empreendedorismo e inovação\",\"disciplina_eixo_nome\":\"administração\",\"carga_hora_semana\":4,\"carga_horária_total_disciplina\":40},\"82\":{\"curso_nome\":\"microempreendedor diferencial\",\"disciplina_nome\":\"ética\",\"disciplina_eixo_nome\":\"cidadania\",\"carga_hora_semana\":2,\"carga_horária_total_disciplina\":20},\"83\":{\"curso_nome\":\"microempreendedor diferencial\",\"disciplina_nome\":\"matemática\",\"disciplina_eixo_nome\":\"matemática\",\"carga_hora_semana\":2,\"carga_horária_total_disciplina\":20},\"84\":{\"curso_nome\":\"microempreendedor diferencial\",\"disciplina_nome\":\"gestão de comércio e serviços\",\"disciplina_eixo_nome\":\"administração\",\"carga_hora_semana\":4,\"carga_horária_total_disciplina\":40},\"85\":{\"curso_nome\":\"microempreendedor diferencial\",\"disciplina_nome\":\"contabilidade básica e finanças\",\"disciplina_eixo_nome\":\"administração\",\"carga_hora_semana\":2,\"carga_horária_total_disciplina\":20},\"86\":{\"curso_nome\":\"microempreendedor diferencial\",\"disciplina_nome\":\"gestão de pessoas e administração de pessoal\",\"disciplina_eixo_nome\":\"administração\",\"carga_hora_semana\":2,\"carga_horária_total_disciplina\":20}}', 'almoxarife': '{\"9\":{\"curso_nome\":\"almoxarife\",\"disciplina_nome\":\"comunicação e expressão\",\"disciplina_eixo_nome\":\"português\",\"carga_hora_semana\":2,\"carga_horária_total_disciplina\":40},\"10\":{\"curso_nome\":\"almoxarife\",\"disciplina_nome\":\"suprimentos e cadeia de abastecimento i\",\"disciplina_eixo_nome\":\"logística\",\"carga_hora_semana\":2,\"carga_horária_total_disciplina\":40},\"11\":{\"curso_nome\":\"almoxarife\",\"disciplina_nome\":\"matemática básica e estatística aplicada\",\"disciplina_eixo_nome\":\"matemática\",\"carga_hora_semana\":2,\"carga_horária_total_disciplina\":40},\"12\":{\"curso_nome\":\"almoxarife\",\"disciplina_nome\":\"informática básica\",\"disciplina_eixo_nome\":\"informática\",\"carga_hora_semana\":2,\"carga_horária_total_disciplina\":40},\"13\":{\"curso_nome\":\"almoxarife\",\"disciplina_nome\":\"fundamentos da administração e gestão de negócios\",\"disciplina_eixo_nome\":\"administração\",\"carga_hora_semana\":4,\"carga_horária_total_disciplina\":80},\"14\":{\"curso_nome\":\"almoxarife\",\"disciplina_nome\":\"movimentação e armazenagem i\",\"disciplina_eixo_nome\":\"logística\",\"carga_hora_semana\":2,\"carga_horária_total_disciplina\":40},\"15\":{\"curso_nome\":\"almoxarife\",\"disciplina_nome\":\"gestão de pessoas\",\"disciplina_eixo_nome\":\"administração\",\"carga_hora_semana\":2,\"carga_horária_total_disciplina\":40},\"16\":{\"curso_nome\":\"almoxarife\",\"disciplina_nome\":\"práticas logísticas i\",\"disciplina_eixo_nome\":\"logística\",\"carga_hora_semana\":2,\"carga_horária_total_disciplina\":40},\"17\":{\"curso_nome\":\"almoxarife\",\"disciplina_nome\":\"fundamentos da logística\",\"disciplina_eixo_nome\":\"logística\",\"carga_hora_semana\":2,\"carga_horária_total_disciplina\":40}}', 'auxiliar administrativo': '{\"18\":{\"curso_nome\":\"auxiliar administrativo\",\"disciplina_nome\":\"ética, cidadania e responsabilidade social\",\"disciplina_eixo_nome\":\"cidadania\",\"carga_hora_semana\":2,\"carga_horária_total_disciplina\":40},\"19\":{\"curso_nome\":\"auxiliar administrativo\",\"disciplina_nome\":\"português instrumental\",\"disciplina_eixo_nome\":\"português\",\"carga_hora_semana\":2,\"carga_horária_total_disciplina\":40},\"20\":{\"curso_nome\":\"auxiliar administrativo\",\"disciplina_nome\":\"introdução à economia\",\"disciplina_eixo_nome\":\"administração\",\"carga_hora_semana\":2,\"carga_horária_total_disciplina\":40},\"21\":{\"curso_nome\":\"auxiliar administrativo\",\"disciplina_nome\":\"informática básica\",\"disciplina_eixo_nome\":\"informática\",\"carga_hora_semana\":2,\"carga_horária_total_disciplina\":40},\"22\":{\"curso_nome\":\"auxiliar administrativo\",\"disciplina_nome\":\"noções de direito tributário\",\"disciplina_eixo_nome\":\"direito\",\"carga_hora_semana\":2,\"carga_horária_total_disciplina\":40},\"23\":{\"curso_nome\":\"auxiliar administrativo\",\"disciplina_nome\":\"matemática básica\",\"disciplina_eixo_nome\":\"matemática\",\"carga_hora_semana\":2,\"carga_horária_total_disciplina\":40},\"24\":{\"curso_nome\":\"auxiliar administrativo\",\"disciplina_nome\":\"teorias da administração\",\"disciplina_eixo_nome\":\"administração\",\"carga_hora_semana\":2,\"carga_horária_total_disciplina\":40},\"25\":{\"curso_nome\":\"auxiliar administrativo\",\"disciplina_nome\":\"comunicação empresarial\",\"disciplina_eixo_nome\":\"administração\",\"carga_hora_semana\":2,\"carga_horária_total_disciplina\":40},\"26\":{\"curso_nome\":\"auxiliar administrativo\",\"disciplina_nome\":\"contabilidade básica\",\"disciplina_eixo_nome\":\"administração\",\"carga_hora_semana\":2,\"carga_horária_total_disciplina\":40},\"27\":{\"curso_nome\":\"auxiliar administrativo\",\"disciplina_nome\":\"metodologia e de projetos\",\"disciplina_eixo_nome\":\"administração\",\"carga_hora_semana\":2,\"carga_horária_total_disciplina\":40}}'}\n"
          ],
          "name": "stdout"
        }
      ]
    },
    {
      "cell_type": "code",
      "metadata": {
        "id": "BO8IlSlz_fvv"
      },
      "source": [
        "lista_dos_cursos_3 = lista_dos_cursos.copy()"
      ],
      "execution_count": null,
      "outputs": []
    },
    {
      "cell_type": "code",
      "metadata": {
        "colab": {
          "base_uri": "https://localhost:8080/"
        },
        "id": "VQR6a4YoCnM6",
        "outputId": "8056846a-6090-435e-9cc3-6caa122b37d4"
      },
      "source": [
        "disc={}\n",
        "while lista_dos_cursos_3:\n",
        "    pesquisa = lista_dos_cursos_3.pop()\n",
        "    curso = df_disciplinas_dos_cursos_test.curso_nome == pesquisa\n",
        "    pesquisa_curso = df_disciplinas_dos_cursos_test[curso]\n",
        "\n",
        "    disc[pesquisa]= pesquisa_curso.to_json(orient ='records',force_ascii=False)\n",
        "\n",
        "print(disc)\n",
        "\n",
        "\n",
        "#enf= enfermagem_prof.to_json(orient ='index',force_ascii=False)"
      ],
      "execution_count": null,
      "outputs": [
        {
          "output_type": "stream",
          "text": [
            "{'porteiro básico': '[{\"curso_nome\":\"porteiro básico\",\"disciplina_nome\":\"administração\",\"disciplina_eixo_nome\":\"administração\",\"carga_hora_semana\":8,\"carga_horária_total_disciplina\":160}]', 'informática básica': '[{\"curso_nome\":\"informática básica\",\"disciplina_nome\":\"informática\",\"disciplina_eixo_nome\":\"informática\",\"carga_hora_semana\":8,\"carga_horária_total_disciplina\":160}]', 'práticas de escritório': '[{\"curso_nome\":\"práticas de escritório\",\"disciplina_nome\":\"administração\",\"disciplina_eixo_nome\":\"administração\",\"carga_hora_semana\":8,\"carga_horária_total_disciplina\":160}]', 'desenho técnico': '[{\"curso_nome\":\"desenho técnico\",\"disciplina_nome\":\"desenho\",\"disciplina_eixo_nome\":\"desenho\",\"carga_hora_semana\":4,\"carga_horária_total_disciplina\":80}]', 'cuidador de pessoas': '[{\"curso_nome\":\"cuidador de pessoas\",\"disciplina_nome\":\"enfermagem\",\"disciplina_eixo_nome\":\"enfermagem\",\"carga_hora_semana\":12,\"carga_horária_total_disciplina\":240}]', 'inglês para atendimento comercial': '[{\"curso_nome\":\"inglês para atendimento comercial\",\"disciplina_nome\":\"inglês\",\"disciplina_eixo_nome\":\"inglês\",\"carga_hora_semana\":12,\"carga_horária_total_disciplina\":240}]', 'português e matemática para concursos públicos e enem': '[{\"curso_nome\":\"português e matemática para concursos públicos e enem\",\"disciplina_nome\":\"português\",\"disciplina_eixo_nome\":\"português\",\"carga_hora_semana\":8,\"carga_horária_total_disciplina\":160},{\"curso_nome\":\"português e matemática para concursos públicos e enem\",\"disciplina_nome\":\"matemática\",\"disciplina_eixo_nome\":\"matemática\",\"carga_hora_semana\":8,\"carga_horária_total_disciplina\":160}]', 'auxiliar de departamento pessoal': '[{\"curso_nome\":\"auxiliar de departamento pessoal\",\"disciplina_nome\":\"informática\",\"disciplina_eixo_nome\":\"informática\",\"carga_hora_semana\":4,\"carga_horária_total_disciplina\":80},{\"curso_nome\":\"auxiliar de departamento pessoal\",\"disciplina_nome\":\"administração\",\"disciplina_eixo_nome\":\"administração\",\"carga_hora_semana\":8,\"carga_horária_total_disciplina\":160}]', 'auxiliar de logística': '[{\"curso_nome\":\"auxiliar de logística\",\"disciplina_nome\":\"informática\",\"disciplina_eixo_nome\":\"informática\",\"carga_hora_semana\":4,\"carga_horária_total_disciplina\":80},{\"curso_nome\":\"auxiliar de logística\",\"disciplina_nome\":\"logística\",\"disciplina_eixo_nome\":\"logística\",\"carga_hora_semana\":8,\"carga_horária_total_disciplina\":160}]', 'introdução a jogos diferencial': '[{\"curso_nome\":\"introdução a jogos diferencial\",\"disciplina_nome\":\"algorítmo\\\\/ programação\",\"disciplina_eixo_nome\":\"informática\",\"carga_hora_semana\":16,\"carga_horária_total_disciplina\":160},{\"curso_nome\":\"introdução a jogos diferencial\",\"disciplina_nome\":\"inglês\",\"disciplina_eixo_nome\":\"inglês\",\"carga_hora_semana\":4,\"carga_horária_total_disciplina\":40}]', 'auxiliar de escritório': '[{\"curso_nome\":\"auxiliar de escritório\",\"disciplina_nome\":\"informática\",\"disciplina_eixo_nome\":\"informática\",\"carga_hora_semana\":4,\"carga_horária_total_disciplina\":80},{\"curso_nome\":\"auxiliar de escritório\",\"disciplina_nome\":\"administração\",\"disciplina_eixo_nome\":\"administração\",\"carga_hora_semana\":8,\"carga_horária_total_disciplina\":160}]', 'controlador de acesso': '[{\"curso_nome\":\"controlador de acesso\",\"disciplina_nome\":\"administração\",\"disciplina_eixo_nome\":\"administração\",\"carga_hora_semana\":8,\"carga_horária_total_disciplina\":160},{\"curso_nome\":\"controlador de acesso\",\"disciplina_nome\":\"informática\",\"disciplina_eixo_nome\":\"informática\",\"carga_hora_semana\":4,\"carga_horária_total_disciplina\":80}]', 'agente de controle à endemias': '[{\"curso_nome\":\"agente de controle à endemias\",\"disciplina_nome\":\"cidadania\",\"disciplina_eixo_nome\":\"cidadania\",\"carga_hora_semana\":2,\"carga_horária_total_disciplina\":40},{\"curso_nome\":\"agente de controle à endemias\",\"disciplina_nome\":\"endemias\",\"disciplina_eixo_nome\":\"meio ambiente\",\"carga_hora_semana\":8,\"carga_horária_total_disciplina\":160},{\"curso_nome\":\"agente de controle à endemias\",\"disciplina_nome\":\"saneamento\",\"disciplina_eixo_nome\":\"meio ambiente\",\"carga_hora_semana\":2,\"carga_horária_total_disciplina\":40}]', 'controlador de acesso diferencial': '[{\"curso_nome\":\"controlador de acesso diferencial\",\"disciplina_nome\":\"direito\",\"disciplina_eixo_nome\":\"direito\",\"carga_hora_semana\":2,\"carga_horária_total_disciplina\":20},{\"curso_nome\":\"controlador de acesso diferencial\",\"disciplina_nome\":\"administração\",\"disciplina_eixo_nome\":\"administração\",\"carga_hora_semana\":16,\"carga_horária_total_disciplina\":160},{\"curso_nome\":\"controlador de acesso diferencial\",\"disciplina_nome\":\"informática\",\"disciplina_eixo_nome\":\"informática\",\"carga_hora_semana\":2,\"carga_horária_total_disciplina\":20}]', 'cuidador de pessoas diferencial': '[{\"curso_nome\":\"cuidador de pessoas diferencial\",\"disciplina_nome\":\"direito\",\"disciplina_eixo_nome\":\"direito\",\"carga_hora_semana\":2,\"carga_horária_total_disciplina\":20},{\"curso_nome\":\"cuidador de pessoas diferencial\",\"disciplina_nome\":\"ética\",\"disciplina_eixo_nome\":\"cidadania\",\"carga_hora_semana\":2,\"carga_horária_total_disciplina\":20},{\"curso_nome\":\"cuidador de pessoas diferencial\",\"disciplina_nome\":\"enfermagem\",\"disciplina_eixo_nome\":\"enfermagem\",\"carga_hora_semana\":16,\"carga_horária_total_disciplina\":160}]', 'auxiliar financeiro': '[{\"curso_nome\":\"auxiliar financeiro\",\"disciplina_nome\":\"administração\",\"disciplina_eixo_nome\":\"administração\",\"carga_hora_semana\":6,\"carga_horária_total_disciplina\":120},{\"curso_nome\":\"auxiliar financeiro\",\"disciplina_nome\":\"matemática\",\"disciplina_eixo_nome\":\"matemática\",\"carga_hora_semana\":2,\"carga_horária_total_disciplina\":40},{\"curso_nome\":\"auxiliar financeiro\",\"disciplina_nome\":\"informática\",\"disciplina_eixo_nome\":\"informática\",\"carga_hora_semana\":4,\"carga_horária_total_disciplina\":80}]', 'auxiliar de logística diferencial': '[{\"curso_nome\":\"auxiliar de logística diferencial\",\"disciplina_nome\":\"matemática\",\"disciplina_eixo_nome\":\"matemática\",\"carga_hora_semana\":2,\"carga_horária_total_disciplina\":20},{\"curso_nome\":\"auxiliar de logística diferencial\",\"disciplina_nome\":\"logística\",\"disciplina_eixo_nome\":\"logística\",\"carga_hora_semana\":12,\"carga_horária_total_disciplina\":120},{\"curso_nome\":\"auxiliar de logística diferencial\",\"disciplina_nome\":\"direito\",\"disciplina_eixo_nome\":\"direito\",\"carga_hora_semana\":2,\"carga_horária_total_disciplina\":20},{\"curso_nome\":\"auxiliar de logística diferencial\",\"disciplina_nome\":\"informática\",\"disciplina_eixo_nome\":\"informática\",\"carga_hora_semana\":4,\"carga_horária_total_disciplina\":40}]', 'criação de werbsites diferencial': '[{\"curso_nome\":\"criação de werbsites diferencial\",\"disciplina_nome\":\"empreendedorismo\",\"disciplina_eixo_nome\":\"administração\",\"carga_hora_semana\":2,\"carga_horária_total_disciplina\":20},{\"curso_nome\":\"criação de werbsites diferencial\",\"disciplina_nome\":\"banco de dados\\\\/ plataforma cms\",\"disciplina_eixo_nome\":\"informática\",\"carga_hora_semana\":8,\"carga_horária_total_disciplina\":80},{\"curso_nome\":\"criação de werbsites diferencial\",\"disciplina_nome\":\"marketing\",\"disciplina_eixo_nome\":\"administração\",\"carga_hora_semana\":2,\"carga_horária_total_disciplina\":20},{\"curso_nome\":\"criação de werbsites diferencial\",\"disciplina_nome\":\"html\\\\/ css\",\"disciplina_eixo_nome\":\"informática\",\"carga_hora_semana\":8,\"carga_horária_total_disciplina\":80}]', 'cuidador de idosos diferencial': '[{\"curso_nome\":\"cuidador de idosos diferencial\",\"disciplina_nome\":\"direito\",\"disciplina_eixo_nome\":\"direito\",\"carga_hora_semana\":2,\"carga_horária_total_disciplina\":20},{\"curso_nome\":\"cuidador de idosos diferencial\",\"disciplina_nome\":\"enfermagem\",\"disciplina_eixo_nome\":\"enfermagem\",\"carga_hora_semana\":12,\"carga_horária_total_disciplina\":120},{\"curso_nome\":\"cuidador de idosos diferencial\",\"disciplina_nome\":\"cidadania\",\"disciplina_eixo_nome\":\"cidadania\",\"carga_hora_semana\":2,\"carga_horária_total_disciplina\":20},{\"curso_nome\":\"cuidador de idosos diferencial\",\"disciplina_nome\":\"ética\",\"disciplina_eixo_nome\":\"cidadania\",\"carga_hora_semana\":2,\"carga_horária_total_disciplina\":20}]', 'padeiro/confeiteiro': '[{\"curso_nome\":\"padeiro\\\\/confeiteiro\",\"disciplina_nome\":\"matemática\",\"disciplina_eixo_nome\":\"matemática\",\"carga_hora_semana\":3,\"carga_horária_total_disciplina\":60},{\"curso_nome\":\"padeiro\\\\/confeiteiro\",\"disciplina_nome\":\"padaria\",\"disciplina_eixo_nome\":\"alimentos\",\"carga_hora_semana\":13,\"carga_horária_total_disciplina\":260},{\"curso_nome\":\"padeiro\\\\/confeiteiro\",\"disciplina_nome\":\"empreendedorismo\",\"disciplina_eixo_nome\":\"administração\",\"carga_hora_semana\":2,\"carga_horária_total_disciplina\":40},{\"curso_nome\":\"padeiro\\\\/confeiteiro\",\"disciplina_nome\":\"resíduos sólidos\",\"disciplina_eixo_nome\":\"meio ambiente\",\"carga_hora_semana\":2,\"carga_horária_total_disciplina\":40}]', 'auxiliar de laboratório de química': '[{\"curso_nome\":\"auxiliar de laboratório de química\",\"disciplina_nome\":\"segurança do trabalho\",\"disciplina_eixo_nome\":\"segurança\",\"carga_hora_semana\":2,\"carga_horária_total_disciplina\":40},{\"curso_nome\":\"auxiliar de laboratório de química\",\"disciplina_nome\":\"técnicas laboratoriais\",\"disciplina_eixo_nome\":\"meio ambiente\",\"carga_hora_semana\":10,\"carga_horária_total_disciplina\":200},{\"curso_nome\":\"auxiliar de laboratório de química\",\"disciplina_nome\":\"ética\",\"disciplina_eixo_nome\":\"cidadania\",\"carga_hora_semana\":2,\"carga_horária_total_disciplina\":40},{\"curso_nome\":\"auxiliar de laboratório de química\",\"disciplina_nome\":\"química geral\",\"disciplina_eixo_nome\":\"meio ambiente\",\"carga_hora_semana\":4,\"carga_horária_total_disciplina\":80},{\"curso_nome\":\"auxiliar de laboratório de química\",\"disciplina_nome\":\"química orgânica\",\"disciplina_eixo_nome\":\"meio ambiente\",\"carga_hora_semana\":2,\"carga_horária_total_disciplina\":40}]', 'agente de segurança do trabalho e higiene ocupacional': '[{\"curso_nome\":\"agente de segurança do trabalho e higiene ocupacional\",\"disciplina_nome\":\"prevenção e controle de riscos\",\"disciplina_eixo_nome\":\"segurança\",\"carga_hora_semana\":2,\"carga_horária_total_disciplina\":40},{\"curso_nome\":\"agente de segurança do trabalho e higiene ocupacional\",\"disciplina_nome\":\"direito e legislação trabalhista\",\"disciplina_eixo_nome\":\"direito\",\"carga_hora_semana\":2,\"carga_horária_total_disciplina\":40},{\"curso_nome\":\"agente de segurança do trabalho e higiene ocupacional\",\"disciplina_nome\":\"gerenciamento de epi e epc\",\"disciplina_eixo_nome\":\"máquinas e equipamentos\",\"carga_hora_semana\":2,\"carga_horária_total_disciplina\":40},{\"curso_nome\":\"agente de segurança do trabalho e higiene ocupacional\",\"disciplina_nome\":\"normas regulamentadoras\",\"disciplina_eixo_nome\":\"segurança\",\"carga_hora_semana\":2,\"carga_horária_total_disciplina\":40},{\"curso_nome\":\"agente de segurança do trabalho e higiene ocupacional\",\"disciplina_nome\":\"higiene ocupacional\",\"disciplina_eixo_nome\":\"segurança\",\"carga_hora_semana\":2,\"carga_horária_total_disciplina\":40},{\"curso_nome\":\"agente de segurança do trabalho e higiene ocupacional\",\"disciplina_nome\":\"metodologia de projetos\",\"disciplina_eixo_nome\":\"segurança\",\"carga_hora_semana\":2,\"carga_horária_total_disciplina\":40}]', 'garçom': '[{\"curso_nome\":\"garçom\",\"disciplina_nome\":\"direito\",\"disciplina_eixo_nome\":\"direito\",\"carga_hora_semana\":2,\"carga_horária_total_disciplina\":40},{\"curso_nome\":\"garçom\",\"disciplina_nome\":\"matemática básica\",\"disciplina_eixo_nome\":\"matemática\",\"carga_hora_semana\":2,\"carga_horária_total_disciplina\":40},{\"curso_nome\":\"garçom\",\"disciplina_nome\":\"técnicas de serviços de garçom\",\"disciplina_eixo_nome\":\"hospitalidade\",\"carga_hora_semana\":6,\"carga_horária_total_disciplina\":120},{\"curso_nome\":\"garçom\",\"disciplina_nome\":\"segurança do trabalho\",\"disciplina_eixo_nome\":\"segurança\",\"carga_hora_semana\":2,\"carga_horária_total_disciplina\":40},{\"curso_nome\":\"garçom\",\"disciplina_nome\":\"fundamentos do turismo e hospitalidade\",\"disciplina_eixo_nome\":\"hospitalidade\",\"carga_hora_semana\":2,\"carga_horária_total_disciplina\":40},{\"curso_nome\":\"garçom\",\"disciplina_nome\":\"atividades administrativas e atendimento e comunicação?\",\"disciplina_eixo_nome\":\"administração\",\"carga_hora_semana\":2,\"carga_horária_total_disciplina\":40}]', 'auxiliar de escritório diferencial': '[{\"curso_nome\":\"auxiliar de escritório diferencial\",\"disciplina_nome\":\"cidadania\",\"disciplina_eixo_nome\":\"cidadania\",\"carga_hora_semana\":2,\"carga_horária_total_disciplina\":20},{\"curso_nome\":\"auxiliar de escritório diferencial\",\"disciplina_nome\":\"português\",\"disciplina_eixo_nome\":\"português\",\"carga_hora_semana\":2,\"carga_horária_total_disciplina\":20},{\"curso_nome\":\"auxiliar de escritório diferencial\",\"disciplina_nome\":\"administração\",\"disciplina_eixo_nome\":\"administração\",\"carga_hora_semana\":8,\"carga_horária_total_disciplina\":80},{\"curso_nome\":\"auxiliar de escritório diferencial\",\"disciplina_nome\":\"direito\",\"disciplina_eixo_nome\":\"direito\",\"carga_hora_semana\":4,\"carga_horária_total_disciplina\":40},{\"curso_nome\":\"auxiliar de escritório diferencial\",\"disciplina_nome\":\"matemática\",\"disciplina_eixo_nome\":\"matemática\",\"carga_hora_semana\":2,\"carga_horária_total_disciplina\":20},{\"curso_nome\":\"auxiliar de escritório diferencial\",\"disciplina_nome\":\"informática\",\"disciplina_eixo_nome\":\"informática\",\"carga_hora_semana\":2,\"carga_horária_total_disciplina\":20}]', 'microempreendedor diferencial': '[{\"curso_nome\":\"microempreendedor diferencial\",\"disciplina_nome\":\"direito\",\"disciplina_eixo_nome\":\"direito\",\"carga_hora_semana\":4,\"carga_horária_total_disciplina\":40},{\"curso_nome\":\"microempreendedor diferencial\",\"disciplina_nome\":\"empreendedorismo e inovação\",\"disciplina_eixo_nome\":\"administração\",\"carga_hora_semana\":4,\"carga_horária_total_disciplina\":40},{\"curso_nome\":\"microempreendedor diferencial\",\"disciplina_nome\":\"ética\",\"disciplina_eixo_nome\":\"cidadania\",\"carga_hora_semana\":2,\"carga_horária_total_disciplina\":20},{\"curso_nome\":\"microempreendedor diferencial\",\"disciplina_nome\":\"matemática\",\"disciplina_eixo_nome\":\"matemática\",\"carga_hora_semana\":2,\"carga_horária_total_disciplina\":20},{\"curso_nome\":\"microempreendedor diferencial\",\"disciplina_nome\":\"gestão de comércio e serviços\",\"disciplina_eixo_nome\":\"administração\",\"carga_hora_semana\":4,\"carga_horária_total_disciplina\":40},{\"curso_nome\":\"microempreendedor diferencial\",\"disciplina_nome\":\"contabilidade básica e finanças\",\"disciplina_eixo_nome\":\"administração\",\"carga_hora_semana\":2,\"carga_horária_total_disciplina\":20},{\"curso_nome\":\"microempreendedor diferencial\",\"disciplina_nome\":\"gestão de pessoas e administração de pessoal\",\"disciplina_eixo_nome\":\"administração\",\"carga_hora_semana\":2,\"carga_horária_total_disciplina\":20}]', 'almoxarife': '[{\"curso_nome\":\"almoxarife\",\"disciplina_nome\":\"comunicação e expressão\",\"disciplina_eixo_nome\":\"português\",\"carga_hora_semana\":2,\"carga_horária_total_disciplina\":40},{\"curso_nome\":\"almoxarife\",\"disciplina_nome\":\"suprimentos e cadeia de abastecimento i\",\"disciplina_eixo_nome\":\"logística\",\"carga_hora_semana\":2,\"carga_horária_total_disciplina\":40},{\"curso_nome\":\"almoxarife\",\"disciplina_nome\":\"matemática básica e estatística aplicada\",\"disciplina_eixo_nome\":\"matemática\",\"carga_hora_semana\":2,\"carga_horária_total_disciplina\":40},{\"curso_nome\":\"almoxarife\",\"disciplina_nome\":\"informática básica\",\"disciplina_eixo_nome\":\"informática\",\"carga_hora_semana\":2,\"carga_horária_total_disciplina\":40},{\"curso_nome\":\"almoxarife\",\"disciplina_nome\":\"fundamentos da administração e gestão de negócios\",\"disciplina_eixo_nome\":\"administração\",\"carga_hora_semana\":4,\"carga_horária_total_disciplina\":80},{\"curso_nome\":\"almoxarife\",\"disciplina_nome\":\"movimentação e armazenagem i\",\"disciplina_eixo_nome\":\"logística\",\"carga_hora_semana\":2,\"carga_horária_total_disciplina\":40},{\"curso_nome\":\"almoxarife\",\"disciplina_nome\":\"gestão de pessoas\",\"disciplina_eixo_nome\":\"administração\",\"carga_hora_semana\":2,\"carga_horária_total_disciplina\":40},{\"curso_nome\":\"almoxarife\",\"disciplina_nome\":\"práticas logísticas i\",\"disciplina_eixo_nome\":\"logística\",\"carga_hora_semana\":2,\"carga_horária_total_disciplina\":40},{\"curso_nome\":\"almoxarife\",\"disciplina_nome\":\"fundamentos da logística\",\"disciplina_eixo_nome\":\"logística\",\"carga_hora_semana\":2,\"carga_horária_total_disciplina\":40}]', 'auxiliar administrativo': '[{\"curso_nome\":\"auxiliar administrativo\",\"disciplina_nome\":\"ética, cidadania e responsabilidade social\",\"disciplina_eixo_nome\":\"cidadania\",\"carga_hora_semana\":2,\"carga_horária_total_disciplina\":40},{\"curso_nome\":\"auxiliar administrativo\",\"disciplina_nome\":\"português instrumental\",\"disciplina_eixo_nome\":\"português\",\"carga_hora_semana\":2,\"carga_horária_total_disciplina\":40},{\"curso_nome\":\"auxiliar administrativo\",\"disciplina_nome\":\"introdução à economia\",\"disciplina_eixo_nome\":\"administração\",\"carga_hora_semana\":2,\"carga_horária_total_disciplina\":40},{\"curso_nome\":\"auxiliar administrativo\",\"disciplina_nome\":\"informática básica\",\"disciplina_eixo_nome\":\"informática\",\"carga_hora_semana\":2,\"carga_horária_total_disciplina\":40},{\"curso_nome\":\"auxiliar administrativo\",\"disciplina_nome\":\"noções de direito tributário\",\"disciplina_eixo_nome\":\"direito\",\"carga_hora_semana\":2,\"carga_horária_total_disciplina\":40},{\"curso_nome\":\"auxiliar administrativo\",\"disciplina_nome\":\"matemática básica\",\"disciplina_eixo_nome\":\"matemática\",\"carga_hora_semana\":2,\"carga_horária_total_disciplina\":40},{\"curso_nome\":\"auxiliar administrativo\",\"disciplina_nome\":\"teorias da administração\",\"disciplina_eixo_nome\":\"administração\",\"carga_hora_semana\":2,\"carga_horária_total_disciplina\":40},{\"curso_nome\":\"auxiliar administrativo\",\"disciplina_nome\":\"comunicação empresarial\",\"disciplina_eixo_nome\":\"administração\",\"carga_hora_semana\":2,\"carga_horária_total_disciplina\":40},{\"curso_nome\":\"auxiliar administrativo\",\"disciplina_nome\":\"contabilidade básica\",\"disciplina_eixo_nome\":\"administração\",\"carga_hora_semana\":2,\"carga_horária_total_disciplina\":40},{\"curso_nome\":\"auxiliar administrativo\",\"disciplina_nome\":\"metodologia e de projetos\",\"disciplina_eixo_nome\":\"administração\",\"carga_hora_semana\":2,\"carga_horária_total_disciplina\":40}]'}\n"
          ],
          "name": "stdout"
        }
      ]
    },
    {
      "cell_type": "code",
      "metadata": {
        "colab": {
          "base_uri": "https://localhost:8080/"
        },
        "id": "D2Fn1F7PDn22",
        "outputId": "d30bba14-83ea-4992-f83a-e775f8ea26a4"
      },
      "source": [
        "### agora que já entendemos a dinâmica teríamos que fazer o json por disciplina dos cursos abertos.. então...\n",
        "##tenho que criar um lista das disciplinas dos cursos abertos.\n",
        "\n",
        "lista_dos_eixos_disciplinas = df_disciplinas_dos_cursos_test['disciplina_eixo_nome'].value_counts().index.to_list()\n",
        "lista_dos_eixos_disciplinas_copy = lista_dos_eixos_disciplinas.copy()\n",
        "print(lista_dos_eixos_disciplinas_copy)"
      ],
      "execution_count": null,
      "outputs": [
        {
          "output_type": "stream",
          "text": [
            "['administração', 'informática', 'matemática', 'direito', 'cidadania', 'meio ambiente', 'logística', 'segurança', 'português', 'enfermagem', 'inglês', 'hospitalidade', 'alimentos', 'máquinas e equipamentos', 'desenho']\n"
          ],
          "name": "stdout"
        }
      ]
    },
    {
      "cell_type": "code",
      "metadata": {
        "colab": {
          "base_uri": "https://localhost:8080/"
        },
        "id": "vH8rlfaPRUR6",
        "outputId": "3865e443-14ed-4519-f949-17ffda32cb00"
      },
      "source": [
        "lista_dos_eixos_disciplinas_copy_2 = lista_dos_eixos_disciplinas.copy()\n",
        "print(lista_dos_eixos_disciplinas_copy_2)"
      ],
      "execution_count": null,
      "outputs": [
        {
          "output_type": "stream",
          "text": [
            "['administração', 'informática', 'matemática', 'direito', 'cidadania', 'meio ambiente', 'logística', 'segurança', 'português', 'enfermagem', 'inglês', 'hospitalidade', 'alimentos', 'máquinas e equipamentos', 'desenho']\n"
          ],
          "name": "stdout"
        }
      ]
    },
    {
      "cell_type": "code",
      "metadata": {
        "colab": {
          "base_uri": "https://localhost:8080/"
        },
        "id": "J8QdbRL6JhXY",
        "outputId": "39290b4d-cf2e-4b72-ea74-e1300a316ec2"
      },
      "source": [
        "### agora vamos montar o json baseado na disciplina \n",
        "\n",
        "disc_eixo_disc={}\n",
        "while lista_dos_eixos_disciplinas_copy_2:\n",
        "    pesquisa_eixo_disc = lista_dos_eixos_disciplinas_copy_2.pop()\n",
        "    eixo_disc = df_disciplinas_dos_cursos_test.disciplina_eixo_nome == pesquisa_eixo_disc\n",
        "    pesquisando_eixo = df_disciplinas_dos_cursos_test[eixo_disc]\n",
        "  \n",
        "\n",
        "    disc_eixo_disc[pesquisa_eixo_disc]= pesquisando_eixo.to_json(orient ='records',force_ascii=False)\n",
        "\n",
        "print(disc_eixo_disc)\n"
      ],
      "execution_count": null,
      "outputs": [
        {
          "output_type": "stream",
          "text": [
            "{'desenho': '[{\"curso_nome\":\"desenho técnico\",\"disciplina_nome\":\"desenho\",\"disciplina_eixo_nome\":\"desenho\",\"carga_hora_semana\":4,\"carga_horária_total_disciplina\":80}]', 'máquinas e equipamentos': '[{\"curso_nome\":\"agente de segurança do trabalho e higiene ocupacional\",\"disciplina_nome\":\"gerenciamento de epi e epc\",\"disciplina_eixo_nome\":\"máquinas e equipamentos\",\"carga_hora_semana\":2,\"carga_horária_total_disciplina\":40}]', 'alimentos': '[{\"curso_nome\":\"padeiro\\\\/confeiteiro\",\"disciplina_nome\":\"padaria\",\"disciplina_eixo_nome\":\"alimentos\",\"carga_hora_semana\":13,\"carga_horária_total_disciplina\":260}]', 'hospitalidade': '[{\"curso_nome\":\"garçom\",\"disciplina_nome\":\"técnicas de serviços de garçom\",\"disciplina_eixo_nome\":\"hospitalidade\",\"carga_hora_semana\":6,\"carga_horária_total_disciplina\":120},{\"curso_nome\":\"garçom\",\"disciplina_nome\":\"fundamentos do turismo e hospitalidade\",\"disciplina_eixo_nome\":\"hospitalidade\",\"carga_hora_semana\":2,\"carga_horária_total_disciplina\":40}]', 'inglês': '[{\"curso_nome\":\"inglês para atendimento comercial\",\"disciplina_nome\":\"inglês\",\"disciplina_eixo_nome\":\"inglês\",\"carga_hora_semana\":12,\"carga_horária_total_disciplina\":240},{\"curso_nome\":\"introdução a jogos diferencial\",\"disciplina_nome\":\"inglês\",\"disciplina_eixo_nome\":\"inglês\",\"carga_hora_semana\":4,\"carga_horária_total_disciplina\":40}]', 'enfermagem': '[{\"curso_nome\":\"cuidador de idosos diferencial\",\"disciplina_nome\":\"enfermagem\",\"disciplina_eixo_nome\":\"enfermagem\",\"carga_hora_semana\":12,\"carga_horária_total_disciplina\":120},{\"curso_nome\":\"cuidador de pessoas\",\"disciplina_nome\":\"enfermagem\",\"disciplina_eixo_nome\":\"enfermagem\",\"carga_hora_semana\":12,\"carga_horária_total_disciplina\":240},{\"curso_nome\":\"cuidador de pessoas diferencial\",\"disciplina_nome\":\"enfermagem\",\"disciplina_eixo_nome\":\"enfermagem\",\"carga_hora_semana\":16,\"carga_horária_total_disciplina\":160}]', 'português': '[{\"curso_nome\":\"almoxarife\",\"disciplina_nome\":\"comunicação e expressão\",\"disciplina_eixo_nome\":\"português\",\"carga_hora_semana\":2,\"carga_horária_total_disciplina\":40},{\"curso_nome\":\"auxiliar administrativo\",\"disciplina_nome\":\"português instrumental\",\"disciplina_eixo_nome\":\"português\",\"carga_hora_semana\":2,\"carga_horária_total_disciplina\":40},{\"curso_nome\":\"auxiliar de escritório diferencial\",\"disciplina_nome\":\"português\",\"disciplina_eixo_nome\":\"português\",\"carga_hora_semana\":2,\"carga_horária_total_disciplina\":20},{\"curso_nome\":\"português e matemática para concursos públicos e enem\",\"disciplina_nome\":\"português\",\"disciplina_eixo_nome\":\"português\",\"carga_hora_semana\":8,\"carga_horária_total_disciplina\":160}]', 'segurança': '[{\"curso_nome\":\"agente de segurança do trabalho e higiene ocupacional\",\"disciplina_nome\":\"prevenção e controle de riscos\",\"disciplina_eixo_nome\":\"segurança\",\"carga_hora_semana\":2,\"carga_horária_total_disciplina\":40},{\"curso_nome\":\"agente de segurança do trabalho e higiene ocupacional\",\"disciplina_nome\":\"normas regulamentadoras\",\"disciplina_eixo_nome\":\"segurança\",\"carga_hora_semana\":2,\"carga_horária_total_disciplina\":40},{\"curso_nome\":\"agente de segurança do trabalho e higiene ocupacional\",\"disciplina_nome\":\"higiene ocupacional\",\"disciplina_eixo_nome\":\"segurança\",\"carga_hora_semana\":2,\"carga_horária_total_disciplina\":40},{\"curso_nome\":\"agente de segurança do trabalho e higiene ocupacional\",\"disciplina_nome\":\"metodologia de projetos\",\"disciplina_eixo_nome\":\"segurança\",\"carga_hora_semana\":2,\"carga_horária_total_disciplina\":40},{\"curso_nome\":\"auxiliar de laboratório de química\",\"disciplina_nome\":\"segurança do trabalho\",\"disciplina_eixo_nome\":\"segurança\",\"carga_hora_semana\":2,\"carga_horária_total_disciplina\":40},{\"curso_nome\":\"garçom\",\"disciplina_nome\":\"segurança do trabalho\",\"disciplina_eixo_nome\":\"segurança\",\"carga_hora_semana\":2,\"carga_horária_total_disciplina\":40}]', 'logística': '[{\"curso_nome\":\"almoxarife\",\"disciplina_nome\":\"suprimentos e cadeia de abastecimento i\",\"disciplina_eixo_nome\":\"logística\",\"carga_hora_semana\":2,\"carga_horária_total_disciplina\":40},{\"curso_nome\":\"almoxarife\",\"disciplina_nome\":\"movimentação e armazenagem i\",\"disciplina_eixo_nome\":\"logística\",\"carga_hora_semana\":2,\"carga_horária_total_disciplina\":40},{\"curso_nome\":\"almoxarife\",\"disciplina_nome\":\"práticas logísticas i\",\"disciplina_eixo_nome\":\"logística\",\"carga_hora_semana\":2,\"carga_horária_total_disciplina\":40},{\"curso_nome\":\"almoxarife\",\"disciplina_nome\":\"fundamentos da logística\",\"disciplina_eixo_nome\":\"logística\",\"carga_hora_semana\":2,\"carga_horária_total_disciplina\":40},{\"curso_nome\":\"auxiliar de logística diferencial\",\"disciplina_nome\":\"logística\",\"disciplina_eixo_nome\":\"logística\",\"carga_hora_semana\":12,\"carga_horária_total_disciplina\":120},{\"curso_nome\":\"auxiliar de logística\",\"disciplina_nome\":\"logística\",\"disciplina_eixo_nome\":\"logística\",\"carga_hora_semana\":8,\"carga_horária_total_disciplina\":160}]', 'meio ambiente': '[{\"curso_nome\":\"agente de controle à endemias\",\"disciplina_nome\":\"endemias\",\"disciplina_eixo_nome\":\"meio ambiente\",\"carga_hora_semana\":8,\"carga_horária_total_disciplina\":160},{\"curso_nome\":\"agente de controle à endemias\",\"disciplina_nome\":\"saneamento\",\"disciplina_eixo_nome\":\"meio ambiente\",\"carga_hora_semana\":2,\"carga_horária_total_disciplina\":40},{\"curso_nome\":\"auxiliar de laboratório de química\",\"disciplina_nome\":\"técnicas laboratoriais\",\"disciplina_eixo_nome\":\"meio ambiente\",\"carga_hora_semana\":10,\"carga_horária_total_disciplina\":200},{\"curso_nome\":\"auxiliar de laboratório de química\",\"disciplina_nome\":\"química geral\",\"disciplina_eixo_nome\":\"meio ambiente\",\"carga_hora_semana\":4,\"carga_horária_total_disciplina\":80},{\"curso_nome\":\"auxiliar de laboratório de química\",\"disciplina_nome\":\"química orgânica\",\"disciplina_eixo_nome\":\"meio ambiente\",\"carga_hora_semana\":2,\"carga_horária_total_disciplina\":40},{\"curso_nome\":\"padeiro\\\\/confeiteiro\",\"disciplina_nome\":\"resíduos sólidos\",\"disciplina_eixo_nome\":\"meio ambiente\",\"carga_hora_semana\":2,\"carga_horária_total_disciplina\":40}]', 'cidadania': '[{\"curso_nome\":\"agente de controle à endemias\",\"disciplina_nome\":\"cidadania\",\"disciplina_eixo_nome\":\"cidadania\",\"carga_hora_semana\":2,\"carga_horária_total_disciplina\":40},{\"curso_nome\":\"auxiliar administrativo\",\"disciplina_nome\":\"ética, cidadania e responsabilidade social\",\"disciplina_eixo_nome\":\"cidadania\",\"carga_hora_semana\":2,\"carga_horária_total_disciplina\":40},{\"curso_nome\":\"auxiliar de escritório diferencial\",\"disciplina_nome\":\"cidadania\",\"disciplina_eixo_nome\":\"cidadania\",\"carga_hora_semana\":2,\"carga_horária_total_disciplina\":20},{\"curso_nome\":\"auxiliar de laboratório de química\",\"disciplina_nome\":\"ética\",\"disciplina_eixo_nome\":\"cidadania\",\"carga_hora_semana\":2,\"carga_horária_total_disciplina\":40},{\"curso_nome\":\"cuidador de idosos diferencial\",\"disciplina_nome\":\"cidadania\",\"disciplina_eixo_nome\":\"cidadania\",\"carga_hora_semana\":2,\"carga_horária_total_disciplina\":20},{\"curso_nome\":\"cuidador de idosos diferencial\",\"disciplina_nome\":\"ética\",\"disciplina_eixo_nome\":\"cidadania\",\"carga_hora_semana\":2,\"carga_horária_total_disciplina\":20},{\"curso_nome\":\"cuidador de pessoas diferencial\",\"disciplina_nome\":\"ética\",\"disciplina_eixo_nome\":\"cidadania\",\"carga_hora_semana\":2,\"carga_horária_total_disciplina\":20},{\"curso_nome\":\"microempreendedor diferencial\",\"disciplina_nome\":\"ética\",\"disciplina_eixo_nome\":\"cidadania\",\"carga_hora_semana\":2,\"carga_horária_total_disciplina\":20}]', 'direito': '[{\"curso_nome\":\"agente de segurança do trabalho e higiene ocupacional\",\"disciplina_nome\":\"direito e legislação trabalhista\",\"disciplina_eixo_nome\":\"direito\",\"carga_hora_semana\":2,\"carga_horária_total_disciplina\":40},{\"curso_nome\":\"auxiliar administrativo\",\"disciplina_nome\":\"noções de direito tributário\",\"disciplina_eixo_nome\":\"direito\",\"carga_hora_semana\":2,\"carga_horária_total_disciplina\":40},{\"curso_nome\":\"auxiliar de escritório diferencial\",\"disciplina_nome\":\"direito\",\"disciplina_eixo_nome\":\"direito\",\"carga_hora_semana\":4,\"carga_horária_total_disciplina\":40},{\"curso_nome\":\"auxiliar de logística diferencial\",\"disciplina_nome\":\"direito\",\"disciplina_eixo_nome\":\"direito\",\"carga_hora_semana\":2,\"carga_horária_total_disciplina\":20},{\"curso_nome\":\"controlador de acesso diferencial\",\"disciplina_nome\":\"direito\",\"disciplina_eixo_nome\":\"direito\",\"carga_hora_semana\":2,\"carga_horária_total_disciplina\":20},{\"curso_nome\":\"cuidador de idosos diferencial\",\"disciplina_nome\":\"direito\",\"disciplina_eixo_nome\":\"direito\",\"carga_hora_semana\":2,\"carga_horária_total_disciplina\":20},{\"curso_nome\":\"cuidador de pessoas diferencial\",\"disciplina_nome\":\"direito\",\"disciplina_eixo_nome\":\"direito\",\"carga_hora_semana\":2,\"carga_horária_total_disciplina\":20},{\"curso_nome\":\"garçom\",\"disciplina_nome\":\"direito\",\"disciplina_eixo_nome\":\"direito\",\"carga_hora_semana\":2,\"carga_horária_total_disciplina\":40},{\"curso_nome\":\"microempreendedor diferencial\",\"disciplina_nome\":\"direito\",\"disciplina_eixo_nome\":\"direito\",\"carga_hora_semana\":4,\"carga_horária_total_disciplina\":40}]', 'matemática': '[{\"curso_nome\":\"almoxarife\",\"disciplina_nome\":\"matemática básica e estatística aplicada\",\"disciplina_eixo_nome\":\"matemática\",\"carga_hora_semana\":2,\"carga_horária_total_disciplina\":40},{\"curso_nome\":\"auxiliar administrativo\",\"disciplina_nome\":\"matemática básica\",\"disciplina_eixo_nome\":\"matemática\",\"carga_hora_semana\":2,\"carga_horária_total_disciplina\":40},{\"curso_nome\":\"auxiliar de escritório diferencial\",\"disciplina_nome\":\"matemática\",\"disciplina_eixo_nome\":\"matemática\",\"carga_hora_semana\":2,\"carga_horária_total_disciplina\":20},{\"curso_nome\":\"auxiliar de logística diferencial\",\"disciplina_nome\":\"matemática\",\"disciplina_eixo_nome\":\"matemática\",\"carga_hora_semana\":2,\"carga_horária_total_disciplina\":20},{\"curso_nome\":\"auxiliar financeiro\",\"disciplina_nome\":\"matemática\",\"disciplina_eixo_nome\":\"matemática\",\"carga_hora_semana\":2,\"carga_horária_total_disciplina\":40},{\"curso_nome\":\"garçom\",\"disciplina_nome\":\"matemática básica\",\"disciplina_eixo_nome\":\"matemática\",\"carga_hora_semana\":2,\"carga_horária_total_disciplina\":40},{\"curso_nome\":\"microempreendedor diferencial\",\"disciplina_nome\":\"matemática\",\"disciplina_eixo_nome\":\"matemática\",\"carga_hora_semana\":2,\"carga_horária_total_disciplina\":20},{\"curso_nome\":\"padeiro\\\\/confeiteiro\",\"disciplina_nome\":\"matemática\",\"disciplina_eixo_nome\":\"matemática\",\"carga_hora_semana\":3,\"carga_horária_total_disciplina\":60},{\"curso_nome\":\"português e matemática para concursos públicos e enem\",\"disciplina_nome\":\"matemática\",\"disciplina_eixo_nome\":\"matemática\",\"carga_hora_semana\":8,\"carga_horária_total_disciplina\":160}]', 'informática': '[{\"curso_nome\":\"almoxarife\",\"disciplina_nome\":\"informática básica\",\"disciplina_eixo_nome\":\"informática\",\"carga_hora_semana\":2,\"carga_horária_total_disciplina\":40},{\"curso_nome\":\"auxiliar administrativo\",\"disciplina_nome\":\"informática básica\",\"disciplina_eixo_nome\":\"informática\",\"carga_hora_semana\":2,\"carga_horária_total_disciplina\":40},{\"curso_nome\":\"auxiliar de departamento pessoal\",\"disciplina_nome\":\"informática\",\"disciplina_eixo_nome\":\"informática\",\"carga_hora_semana\":4,\"carga_horária_total_disciplina\":80},{\"curso_nome\":\"auxiliar de escritório\",\"disciplina_nome\":\"informática\",\"disciplina_eixo_nome\":\"informática\",\"carga_hora_semana\":4,\"carga_horária_total_disciplina\":80},{\"curso_nome\":\"auxiliar de escritório diferencial\",\"disciplina_nome\":\"informática\",\"disciplina_eixo_nome\":\"informática\",\"carga_hora_semana\":2,\"carga_horária_total_disciplina\":20},{\"curso_nome\":\"auxiliar de logística\",\"disciplina_nome\":\"informática\",\"disciplina_eixo_nome\":\"informática\",\"carga_hora_semana\":4,\"carga_horária_total_disciplina\":80},{\"curso_nome\":\"auxiliar de logística diferencial\",\"disciplina_nome\":\"informática\",\"disciplina_eixo_nome\":\"informática\",\"carga_hora_semana\":4,\"carga_horária_total_disciplina\":40},{\"curso_nome\":\"auxiliar financeiro\",\"disciplina_nome\":\"informática\",\"disciplina_eixo_nome\":\"informática\",\"carga_hora_semana\":4,\"carga_horária_total_disciplina\":80},{\"curso_nome\":\"controlador de acesso\",\"disciplina_nome\":\"informática\",\"disciplina_eixo_nome\":\"informática\",\"carga_hora_semana\":4,\"carga_horária_total_disciplina\":80},{\"curso_nome\":\"controlador de acesso diferencial\",\"disciplina_nome\":\"informática\",\"disciplina_eixo_nome\":\"informática\",\"carga_hora_semana\":2,\"carga_horária_total_disciplina\":20},{\"curso_nome\":\"criação de werbsites diferencial\",\"disciplina_nome\":\"banco de dados\\\\/ plataforma cms\",\"disciplina_eixo_nome\":\"informática\",\"carga_hora_semana\":8,\"carga_horária_total_disciplina\":80},{\"curso_nome\":\"criação de werbsites diferencial\",\"disciplina_nome\":\"html\\\\/ css\",\"disciplina_eixo_nome\":\"informática\",\"carga_hora_semana\":8,\"carga_horária_total_disciplina\":80},{\"curso_nome\":\"informática básica\",\"disciplina_nome\":\"informática\",\"disciplina_eixo_nome\":\"informática\",\"carga_hora_semana\":8,\"carga_horária_total_disciplina\":160},{\"curso_nome\":\"introdução a jogos diferencial\",\"disciplina_nome\":\"algorítmo\\\\/ programação\",\"disciplina_eixo_nome\":\"informática\",\"carga_hora_semana\":16,\"carga_horária_total_disciplina\":160}]', 'administração': '[{\"curso_nome\":\"almoxarife\",\"disciplina_nome\":\"fundamentos da administração e gestão de negócios\",\"disciplina_eixo_nome\":\"administração\",\"carga_hora_semana\":4,\"carga_horária_total_disciplina\":80},{\"curso_nome\":\"almoxarife\",\"disciplina_nome\":\"gestão de pessoas\",\"disciplina_eixo_nome\":\"administração\",\"carga_hora_semana\":2,\"carga_horária_total_disciplina\":40},{\"curso_nome\":\"auxiliar administrativo\",\"disciplina_nome\":\"introdução à economia\",\"disciplina_eixo_nome\":\"administração\",\"carga_hora_semana\":2,\"carga_horária_total_disciplina\":40},{\"curso_nome\":\"auxiliar administrativo\",\"disciplina_nome\":\"teorias da administração\",\"disciplina_eixo_nome\":\"administração\",\"carga_hora_semana\":2,\"carga_horária_total_disciplina\":40},{\"curso_nome\":\"auxiliar administrativo\",\"disciplina_nome\":\"comunicação empresarial\",\"disciplina_eixo_nome\":\"administração\",\"carga_hora_semana\":2,\"carga_horária_total_disciplina\":40},{\"curso_nome\":\"auxiliar administrativo\",\"disciplina_nome\":\"contabilidade básica\",\"disciplina_eixo_nome\":\"administração\",\"carga_hora_semana\":2,\"carga_horária_total_disciplina\":40},{\"curso_nome\":\"auxiliar administrativo\",\"disciplina_nome\":\"metodologia e de projetos\",\"disciplina_eixo_nome\":\"administração\",\"carga_hora_semana\":2,\"carga_horária_total_disciplina\":40},{\"curso_nome\":\"auxiliar de departamento pessoal\",\"disciplina_nome\":\"administração\",\"disciplina_eixo_nome\":\"administração\",\"carga_hora_semana\":8,\"carga_horária_total_disciplina\":160},{\"curso_nome\":\"auxiliar de escritório diferencial\",\"disciplina_nome\":\"administração\",\"disciplina_eixo_nome\":\"administração\",\"carga_hora_semana\":8,\"carga_horária_total_disciplina\":80},{\"curso_nome\":\"auxiliar de escritório\",\"disciplina_nome\":\"administração\",\"disciplina_eixo_nome\":\"administração\",\"carga_hora_semana\":8,\"carga_horária_total_disciplina\":160},{\"curso_nome\":\"auxiliar financeiro\",\"disciplina_nome\":\"administração\",\"disciplina_eixo_nome\":\"administração\",\"carga_hora_semana\":6,\"carga_horária_total_disciplina\":120},{\"curso_nome\":\"controlador de acesso\",\"disciplina_nome\":\"administração\",\"disciplina_eixo_nome\":\"administração\",\"carga_hora_semana\":8,\"carga_horária_total_disciplina\":160},{\"curso_nome\":\"controlador de acesso diferencial\",\"disciplina_nome\":\"administração\",\"disciplina_eixo_nome\":\"administração\",\"carga_hora_semana\":16,\"carga_horária_total_disciplina\":160},{\"curso_nome\":\"criação de werbsites diferencial\",\"disciplina_nome\":\"empreendedorismo\",\"disciplina_eixo_nome\":\"administração\",\"carga_hora_semana\":2,\"carga_horária_total_disciplina\":20},{\"curso_nome\":\"criação de werbsites diferencial\",\"disciplina_nome\":\"marketing\",\"disciplina_eixo_nome\":\"administração\",\"carga_hora_semana\":2,\"carga_horária_total_disciplina\":20},{\"curso_nome\":\"garçom\",\"disciplina_nome\":\"atividades administrativas e atendimento e comunicação?\",\"disciplina_eixo_nome\":\"administração\",\"carga_hora_semana\":2,\"carga_horária_total_disciplina\":40},{\"curso_nome\":\"microempreendedor diferencial\",\"disciplina_nome\":\"empreendedorismo e inovação\",\"disciplina_eixo_nome\":\"administração\",\"carga_hora_semana\":4,\"carga_horária_total_disciplina\":40},{\"curso_nome\":\"microempreendedor diferencial\",\"disciplina_nome\":\"gestão de comércio e serviços\",\"disciplina_eixo_nome\":\"administração\",\"carga_hora_semana\":4,\"carga_horária_total_disciplina\":40},{\"curso_nome\":\"microempreendedor diferencial\",\"disciplina_nome\":\"contabilidade básica e finanças\",\"disciplina_eixo_nome\":\"administração\",\"carga_hora_semana\":2,\"carga_horária_total_disciplina\":20},{\"curso_nome\":\"microempreendedor diferencial\",\"disciplina_nome\":\"gestão de pessoas e administração de pessoal\",\"disciplina_eixo_nome\":\"administração\",\"carga_hora_semana\":2,\"carga_horária_total_disciplina\":20},{\"curso_nome\":\"padeiro\\\\/confeiteiro\",\"disciplina_nome\":\"empreendedorismo\",\"disciplina_eixo_nome\":\"administração\",\"carga_hora_semana\":2,\"carga_horária_total_disciplina\":40},{\"curso_nome\":\"porteiro básico\",\"disciplina_nome\":\"administração\",\"disciplina_eixo_nome\":\"administração\",\"carga_hora_semana\":8,\"carga_horária_total_disciplina\":160},{\"curso_nome\":\"práticas de escritório\",\"disciplina_nome\":\"administração\",\"disciplina_eixo_nome\":\"administração\",\"carga_hora_semana\":8,\"carga_horária_total_disciplina\":160}]'}\n"
          ],
          "name": "stdout"
        }
      ]
    },
    {
      "cell_type": "code",
      "metadata": {
        "id": "tG_cm3ryNUNt",
        "colab": {
          "base_uri": "https://localhost:8080/"
        },
        "outputId": "883c951c-4550-4986-8dc8-1f587d6461a1"
      },
      "source": [
        "#separando dias e horários\n",
        "week_class =[]\n",
        "salas_aula = [['S1',25],['S2',25,],['S3',25],['S4',25],['S5',25]]\n",
        "horarios_das_aulas = [[ \"M1\", \"8:00 às 8:50\"], [\"M2\", \"8:50 às 9:40\"], [\"M3\", \"10:00 às 10:50\"],[\"M4\", \"10:50 às 11:40\"]]\n",
        "dias_semana = [ [\"2f\"],[\"3f\"],[\"4f\"],[\"5f\"],[\"6f\"]]\n",
        "\n",
        "\n",
        "\n",
        "for d in dias_semana:\n",
        "    for h in horarios_das_aulas:\n",
        "        dias_horarios = d + h\n",
        "        week_class.append(dias_horarios)\n",
        "print(week_class)\n",
        "\n",
        "\n",
        "            "
      ],
      "execution_count": null,
      "outputs": [
        {
          "output_type": "stream",
          "text": [
            "[['2f', 'M1', '8:00 às 8:50'], ['2f', 'M2', '8:50 às 9:40'], ['2f', 'M3', '10:00 às 10:50'], ['2f', 'M4', '10:50 às 11:40'], ['3f', 'M1', '8:00 às 8:50'], ['3f', 'M2', '8:50 às 9:40'], ['3f', 'M3', '10:00 às 10:50'], ['3f', 'M4', '10:50 às 11:40'], ['4f', 'M1', '8:00 às 8:50'], ['4f', 'M2', '8:50 às 9:40'], ['4f', 'M3', '10:00 às 10:50'], ['4f', 'M4', '10:50 às 11:40'], ['5f', 'M1', '8:00 às 8:50'], ['5f', 'M2', '8:50 às 9:40'], ['5f', 'M3', '10:00 às 10:50'], ['5f', 'M4', '10:50 às 11:40'], ['6f', 'M1', '8:00 às 8:50'], ['6f', 'M2', '8:50 às 9:40'], ['6f', 'M3', '10:00 às 10:50'], ['6f', 'M4', '10:50 às 11:40']]\n"
          ],
          "name": "stdout"
        }
      ]
    },
    {
      "cell_type": "code",
      "metadata": {
        "id": "My51oTWIImWw"
      },
      "source": [
        ""
      ],
      "execution_count": null,
      "outputs": []
    }
  ]
}